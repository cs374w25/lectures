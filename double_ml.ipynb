{
  "nbformat": 4,
  "nbformat_minor": 0,
  "metadata": {
    "kernelspec": {
      "display_name": "Python 3",
      "language": "python",
      "name": "python3"
    },
    "language_info": {
      "codemirror_mode": {
        "name": "ipython",
        "version": 3
      },
      "file_extension": ".py",
      "mimetype": "text/x-python",
      "name": "python",
      "nbconvert_exporter": "python",
      "pygments_lexer": "ipython3",
      "version": "3.7.4"
    },
    "colab": {
      "provenance": []
    },
    "widgets": {
      "application/vnd.jupyter.widget-state+json": {
        "662393d48b134a6892041ec35bacf142": {
          "model_module": "@jupyter-widgets/controls",
          "model_name": "HBoxModel",
          "model_module_version": "1.5.0",
          "state": {
            "_dom_classes": [],
            "_model_module": "@jupyter-widgets/controls",
            "_model_module_version": "1.5.0",
            "_model_name": "HBoxModel",
            "_view_count": null,
            "_view_module": "@jupyter-widgets/controls",
            "_view_module_version": "1.5.0",
            "_view_name": "HBoxView",
            "box_style": "",
            "children": [
              "IPY_MODEL_1e660e25466e420d84431eac82a03108",
              "IPY_MODEL_05f2f3129e874c809983e3f2c0cfaa0d",
              "IPY_MODEL_63a35fabcc7c4137941209f21f083591"
            ],
            "layout": "IPY_MODEL_ec362930be8e4f669e18d074f90183c3"
          }
        },
        "1e660e25466e420d84431eac82a03108": {
          "model_module": "@jupyter-widgets/controls",
          "model_name": "HTMLModel",
          "model_module_version": "1.5.0",
          "state": {
            "_dom_classes": [],
            "_model_module": "@jupyter-widgets/controls",
            "_model_module_version": "1.5.0",
            "_model_name": "HTMLModel",
            "_view_count": null,
            "_view_module": "@jupyter-widgets/controls",
            "_view_module_version": "1.5.0",
            "_view_name": "HTMLView",
            "description": "",
            "description_tooltip": null,
            "layout": "IPY_MODEL_ae28e2f8ca1745719fb77209ef2e7f81",
            "placeholder": "​",
            "style": "IPY_MODEL_7cbf6d6d949841c9b3de8d86122d369e",
            "value": "100%"
          }
        },
        "05f2f3129e874c809983e3f2c0cfaa0d": {
          "model_module": "@jupyter-widgets/controls",
          "model_name": "FloatProgressModel",
          "model_module_version": "1.5.0",
          "state": {
            "_dom_classes": [],
            "_model_module": "@jupyter-widgets/controls",
            "_model_module_version": "1.5.0",
            "_model_name": "FloatProgressModel",
            "_view_count": null,
            "_view_module": "@jupyter-widgets/controls",
            "_view_module_version": "1.5.0",
            "_view_name": "ProgressView",
            "bar_style": "success",
            "description": "",
            "description_tooltip": null,
            "layout": "IPY_MODEL_8666e95f58e04e9497c7ada9ccba6003",
            "max": 9816,
            "min": 0,
            "orientation": "horizontal",
            "style": "IPY_MODEL_36b99bc6b35a49c1937ec1a2110ae0b6",
            "value": 9816
          }
        },
        "63a35fabcc7c4137941209f21f083591": {
          "model_module": "@jupyter-widgets/controls",
          "model_name": "HTMLModel",
          "model_module_version": "1.5.0",
          "state": {
            "_dom_classes": [],
            "_model_module": "@jupyter-widgets/controls",
            "_model_module_version": "1.5.0",
            "_model_name": "HTMLModel",
            "_view_count": null,
            "_view_module": "@jupyter-widgets/controls",
            "_view_module_version": "1.5.0",
            "_view_name": "HTMLView",
            "description": "",
            "description_tooltip": null,
            "layout": "IPY_MODEL_0e321b7d21714be09bbdededc92810e2",
            "placeholder": "​",
            "style": "IPY_MODEL_f4677622d12b483bb5835759c8b13af6",
            "value": " 9816/9816 [00:06&lt;00:00, 1497.64it/s]"
          }
        },
        "ec362930be8e4f669e18d074f90183c3": {
          "model_module": "@jupyter-widgets/base",
          "model_name": "LayoutModel",
          "model_module_version": "1.2.0",
          "state": {
            "_model_module": "@jupyter-widgets/base",
            "_model_module_version": "1.2.0",
            "_model_name": "LayoutModel",
            "_view_count": null,
            "_view_module": "@jupyter-widgets/base",
            "_view_module_version": "1.2.0",
            "_view_name": "LayoutView",
            "align_content": null,
            "align_items": null,
            "align_self": null,
            "border": null,
            "bottom": null,
            "display": null,
            "flex": null,
            "flex_flow": null,
            "grid_area": null,
            "grid_auto_columns": null,
            "grid_auto_flow": null,
            "grid_auto_rows": null,
            "grid_column": null,
            "grid_gap": null,
            "grid_row": null,
            "grid_template_areas": null,
            "grid_template_columns": null,
            "grid_template_rows": null,
            "height": null,
            "justify_content": null,
            "justify_items": null,
            "left": null,
            "margin": null,
            "max_height": null,
            "max_width": null,
            "min_height": null,
            "min_width": null,
            "object_fit": null,
            "object_position": null,
            "order": null,
            "overflow": null,
            "overflow_x": null,
            "overflow_y": null,
            "padding": null,
            "right": null,
            "top": null,
            "visibility": null,
            "width": null
          }
        },
        "ae28e2f8ca1745719fb77209ef2e7f81": {
          "model_module": "@jupyter-widgets/base",
          "model_name": "LayoutModel",
          "model_module_version": "1.2.0",
          "state": {
            "_model_module": "@jupyter-widgets/base",
            "_model_module_version": "1.2.0",
            "_model_name": "LayoutModel",
            "_view_count": null,
            "_view_module": "@jupyter-widgets/base",
            "_view_module_version": "1.2.0",
            "_view_name": "LayoutView",
            "align_content": null,
            "align_items": null,
            "align_self": null,
            "border": null,
            "bottom": null,
            "display": null,
            "flex": null,
            "flex_flow": null,
            "grid_area": null,
            "grid_auto_columns": null,
            "grid_auto_flow": null,
            "grid_auto_rows": null,
            "grid_column": null,
            "grid_gap": null,
            "grid_row": null,
            "grid_template_areas": null,
            "grid_template_columns": null,
            "grid_template_rows": null,
            "height": null,
            "justify_content": null,
            "justify_items": null,
            "left": null,
            "margin": null,
            "max_height": null,
            "max_width": null,
            "min_height": null,
            "min_width": null,
            "object_fit": null,
            "object_position": null,
            "order": null,
            "overflow": null,
            "overflow_x": null,
            "overflow_y": null,
            "padding": null,
            "right": null,
            "top": null,
            "visibility": null,
            "width": null
          }
        },
        "7cbf6d6d949841c9b3de8d86122d369e": {
          "model_module": "@jupyter-widgets/controls",
          "model_name": "DescriptionStyleModel",
          "model_module_version": "1.5.0",
          "state": {
            "_model_module": "@jupyter-widgets/controls",
            "_model_module_version": "1.5.0",
            "_model_name": "DescriptionStyleModel",
            "_view_count": null,
            "_view_module": "@jupyter-widgets/base",
            "_view_module_version": "1.2.0",
            "_view_name": "StyleView",
            "description_width": ""
          }
        },
        "8666e95f58e04e9497c7ada9ccba6003": {
          "model_module": "@jupyter-widgets/base",
          "model_name": "LayoutModel",
          "model_module_version": "1.2.0",
          "state": {
            "_model_module": "@jupyter-widgets/base",
            "_model_module_version": "1.2.0",
            "_model_name": "LayoutModel",
            "_view_count": null,
            "_view_module": "@jupyter-widgets/base",
            "_view_module_version": "1.2.0",
            "_view_name": "LayoutView",
            "align_content": null,
            "align_items": null,
            "align_self": null,
            "border": null,
            "bottom": null,
            "display": null,
            "flex": null,
            "flex_flow": null,
            "grid_area": null,
            "grid_auto_columns": null,
            "grid_auto_flow": null,
            "grid_auto_rows": null,
            "grid_column": null,
            "grid_gap": null,
            "grid_row": null,
            "grid_template_areas": null,
            "grid_template_columns": null,
            "grid_template_rows": null,
            "height": null,
            "justify_content": null,
            "justify_items": null,
            "left": null,
            "margin": null,
            "max_height": null,
            "max_width": null,
            "min_height": null,
            "min_width": null,
            "object_fit": null,
            "object_position": null,
            "order": null,
            "overflow": null,
            "overflow_x": null,
            "overflow_y": null,
            "padding": null,
            "right": null,
            "top": null,
            "visibility": null,
            "width": null
          }
        },
        "36b99bc6b35a49c1937ec1a2110ae0b6": {
          "model_module": "@jupyter-widgets/controls",
          "model_name": "ProgressStyleModel",
          "model_module_version": "1.5.0",
          "state": {
            "_model_module": "@jupyter-widgets/controls",
            "_model_module_version": "1.5.0",
            "_model_name": "ProgressStyleModel",
            "_view_count": null,
            "_view_module": "@jupyter-widgets/base",
            "_view_module_version": "1.2.0",
            "_view_name": "StyleView",
            "bar_color": null,
            "description_width": ""
          }
        },
        "0e321b7d21714be09bbdededc92810e2": {
          "model_module": "@jupyter-widgets/base",
          "model_name": "LayoutModel",
          "model_module_version": "1.2.0",
          "state": {
            "_model_module": "@jupyter-widgets/base",
            "_model_module_version": "1.2.0",
            "_model_name": "LayoutModel",
            "_view_count": null,
            "_view_module": "@jupyter-widgets/base",
            "_view_module_version": "1.2.0",
            "_view_name": "LayoutView",
            "align_content": null,
            "align_items": null,
            "align_self": null,
            "border": null,
            "bottom": null,
            "display": null,
            "flex": null,
            "flex_flow": null,
            "grid_area": null,
            "grid_auto_columns": null,
            "grid_auto_flow": null,
            "grid_auto_rows": null,
            "grid_column": null,
            "grid_gap": null,
            "grid_row": null,
            "grid_template_areas": null,
            "grid_template_columns": null,
            "grid_template_rows": null,
            "height": null,
            "justify_content": null,
            "justify_items": null,
            "left": null,
            "margin": null,
            "max_height": null,
            "max_width": null,
            "min_height": null,
            "min_width": null,
            "object_fit": null,
            "object_position": null,
            "order": null,
            "overflow": null,
            "overflow_x": null,
            "overflow_y": null,
            "padding": null,
            "right": null,
            "top": null,
            "visibility": null,
            "width": null
          }
        },
        "f4677622d12b483bb5835759c8b13af6": {
          "model_module": "@jupyter-widgets/controls",
          "model_name": "DescriptionStyleModel",
          "model_module_version": "1.5.0",
          "state": {
            "_model_module": "@jupyter-widgets/controls",
            "_model_module_version": "1.5.0",
            "_model_name": "DescriptionStyleModel",
            "_view_count": null,
            "_view_module": "@jupyter-widgets/base",
            "_view_module_version": "1.2.0",
            "_view_name": "StyleView",
            "description_width": ""
          }
        }
      }
    }
  },
  "cells": [
    {
      "cell_type": "markdown",
      "metadata": {
        "id": "Y1d3JJcjsTi4"
      },
      "source": [
        "<a href=\"http://data.bus.wisc.edu/\">\n",
        "        <img align=\"right\" src=\"https://emaadmanzoor.com/images/color-UWcrest-print.png\" height=80 style=\"height: 80px; float: right;\"/>\n",
        "</a>\n",
        "\n",
        "# NLP+CSS 201: Controlling for Text in Causal<br/>Inference with Double Machine Learning\n",
        "\n",
        "*By [Emaad Manzoor](http://emaadmanzoor.com), [Wisconsin School of Business](https://business.wisc.edu/)*\n",
        "\n",
        "Slightly updated by Zach Wood-Doughty (March 2025)\n",
        "\n",
        "**The tutorial slides and video can be found [here](https://nlp-css-201-tutorials.github.io/nlp-css-201-tutorials/).**"
      ]
    },
    {
      "cell_type": "markdown",
      "metadata": {
        "id": "OQCmLeh9t8cC"
      },
      "source": [
        "## Install required packages"
      ]
    },
    {
      "cell_type": "code",
      "metadata": {
        "id": "zgWtrMZuuDpt",
        "colab": {
          "base_uri": "https://localhost:8080/"
        },
        "outputId": "8531d4bd-0cf7-49cd-9ee8-8b13c6a1dbeb"
      },
      "source": [
        "!pip install doubleml==0.9.3\n",
        "!pip install scikit-learn==1.5.2\n",
        "!pip install numpy==1.26.4\n",
        "!pip install pandas\n",
        "!pip install statsmodels==0.14.4\n",
        "!pip install econml==0.15.1"
      ],
      "execution_count": 1,
      "outputs": [
        {
          "output_type": "stream",
          "name": "stdout",
          "text": [
            "Collecting doubleml==0.9.3\n",
            "  Downloading DoubleML-0.9.3-py3-none-any.whl.metadata (7.9 kB)\n",
            "Requirement already satisfied: joblib in /usr/local/lib/python3.11/dist-packages (from doubleml==0.9.3) (1.4.2)\n",
            "Requirement already satisfied: numpy in /usr/local/lib/python3.11/dist-packages (from doubleml==0.9.3) (1.26.4)\n",
            "Requirement already satisfied: pandas in /usr/local/lib/python3.11/dist-packages (from doubleml==0.9.3) (2.2.2)\n",
            "Requirement already satisfied: scipy in /usr/local/lib/python3.11/dist-packages (from doubleml==0.9.3) (1.14.1)\n",
            "Collecting scikit-learn<1.6.0,>=1.4.0 (from doubleml==0.9.3)\n",
            "  Downloading scikit_learn-1.5.2-cp311-cp311-manylinux_2_17_x86_64.manylinux2014_x86_64.whl.metadata (13 kB)\n",
            "Requirement already satisfied: statsmodels in /usr/local/lib/python3.11/dist-packages (from doubleml==0.9.3) (0.14.4)\n",
            "Requirement already satisfied: matplotlib in /usr/local/lib/python3.11/dist-packages (from doubleml==0.9.3) (3.10.0)\n",
            "Requirement already satisfied: plotly in /usr/local/lib/python3.11/dist-packages (from doubleml==0.9.3) (5.24.1)\n",
            "Requirement already satisfied: threadpoolctl>=3.1.0 in /usr/local/lib/python3.11/dist-packages (from scikit-learn<1.6.0,>=1.4.0->doubleml==0.9.3) (3.5.0)\n",
            "Requirement already satisfied: contourpy>=1.0.1 in /usr/local/lib/python3.11/dist-packages (from matplotlib->doubleml==0.9.3) (1.3.1)\n",
            "Requirement already satisfied: cycler>=0.10 in /usr/local/lib/python3.11/dist-packages (from matplotlib->doubleml==0.9.3) (0.12.1)\n",
            "Requirement already satisfied: fonttools>=4.22.0 in /usr/local/lib/python3.11/dist-packages (from matplotlib->doubleml==0.9.3) (4.56.0)\n",
            "Requirement already satisfied: kiwisolver>=1.3.1 in /usr/local/lib/python3.11/dist-packages (from matplotlib->doubleml==0.9.3) (1.4.8)\n",
            "Requirement already satisfied: packaging>=20.0 in /usr/local/lib/python3.11/dist-packages (from matplotlib->doubleml==0.9.3) (24.2)\n",
            "Requirement already satisfied: pillow>=8 in /usr/local/lib/python3.11/dist-packages (from matplotlib->doubleml==0.9.3) (11.1.0)\n",
            "Requirement already satisfied: pyparsing>=2.3.1 in /usr/local/lib/python3.11/dist-packages (from matplotlib->doubleml==0.9.3) (3.2.1)\n",
            "Requirement already satisfied: python-dateutil>=2.7 in /usr/local/lib/python3.11/dist-packages (from matplotlib->doubleml==0.9.3) (2.8.2)\n",
            "Requirement already satisfied: pytz>=2020.1 in /usr/local/lib/python3.11/dist-packages (from pandas->doubleml==0.9.3) (2025.1)\n",
            "Requirement already satisfied: tzdata>=2022.7 in /usr/local/lib/python3.11/dist-packages (from pandas->doubleml==0.9.3) (2025.1)\n",
            "Requirement already satisfied: tenacity>=6.2.0 in /usr/local/lib/python3.11/dist-packages (from plotly->doubleml==0.9.3) (9.0.0)\n",
            "Requirement already satisfied: patsy>=0.5.6 in /usr/local/lib/python3.11/dist-packages (from statsmodels->doubleml==0.9.3) (1.0.1)\n",
            "Requirement already satisfied: six>=1.5 in /usr/local/lib/python3.11/dist-packages (from python-dateutil>=2.7->matplotlib->doubleml==0.9.3) (1.17.0)\n",
            "Downloading DoubleML-0.9.3-py3-none-any.whl (342 kB)\n",
            "\u001b[2K   \u001b[90m━━━━━━━━━━━━━━━━━━━━━━━━━━━━━━━━━━━━━━━━\u001b[0m \u001b[32m342.9/342.9 kB\u001b[0m \u001b[31m5.1 MB/s\u001b[0m eta \u001b[36m0:00:00\u001b[0m\n",
            "\u001b[?25hDownloading scikit_learn-1.5.2-cp311-cp311-manylinux_2_17_x86_64.manylinux2014_x86_64.whl (13.3 MB)\n",
            "\u001b[2K   \u001b[90m━━━━━━━━━━━━━━━━━━━━━━━━━━━━━━━━━━━━━━━━\u001b[0m \u001b[32m13.3/13.3 MB\u001b[0m \u001b[31m39.1 MB/s\u001b[0m eta \u001b[36m0:00:00\u001b[0m\n",
            "\u001b[?25hInstalling collected packages: scikit-learn, doubleml\n",
            "  Attempting uninstall: scikit-learn\n",
            "    Found existing installation: scikit-learn 1.6.1\n",
            "    Uninstalling scikit-learn-1.6.1:\n",
            "      Successfully uninstalled scikit-learn-1.6.1\n",
            "Successfully installed doubleml-0.9.3 scikit-learn-1.5.2\n",
            "Requirement already satisfied: scikit-learn==1.5.2 in /usr/local/lib/python3.11/dist-packages (1.5.2)\n",
            "Requirement already satisfied: numpy>=1.19.5 in /usr/local/lib/python3.11/dist-packages (from scikit-learn==1.5.2) (1.26.4)\n",
            "Requirement already satisfied: scipy>=1.6.0 in /usr/local/lib/python3.11/dist-packages (from scikit-learn==1.5.2) (1.14.1)\n",
            "Requirement already satisfied: joblib>=1.2.0 in /usr/local/lib/python3.11/dist-packages (from scikit-learn==1.5.2) (1.4.2)\n",
            "Requirement already satisfied: threadpoolctl>=3.1.0 in /usr/local/lib/python3.11/dist-packages (from scikit-learn==1.5.2) (3.5.0)\n",
            "Requirement already satisfied: statsmodels==0.14.4 in /usr/local/lib/python3.11/dist-packages (0.14.4)\n",
            "Requirement already satisfied: numpy<3,>=1.22.3 in /usr/local/lib/python3.11/dist-packages (from statsmodels==0.14.4) (1.26.4)\n",
            "Requirement already satisfied: scipy!=1.9.2,>=1.8 in /usr/local/lib/python3.11/dist-packages (from statsmodels==0.14.4) (1.14.1)\n",
            "Requirement already satisfied: pandas!=2.1.0,>=1.4 in /usr/local/lib/python3.11/dist-packages (from statsmodels==0.14.4) (2.2.2)\n",
            "Requirement already satisfied: patsy>=0.5.6 in /usr/local/lib/python3.11/dist-packages (from statsmodels==0.14.4) (1.0.1)\n",
            "Requirement already satisfied: packaging>=21.3 in /usr/local/lib/python3.11/dist-packages (from statsmodels==0.14.4) (24.2)\n",
            "Requirement already satisfied: python-dateutil>=2.8.2 in /usr/local/lib/python3.11/dist-packages (from pandas!=2.1.0,>=1.4->statsmodels==0.14.4) (2.8.2)\n",
            "Requirement already satisfied: pytz>=2020.1 in /usr/local/lib/python3.11/dist-packages (from pandas!=2.1.0,>=1.4->statsmodels==0.14.4) (2025.1)\n",
            "Requirement already satisfied: tzdata>=2022.7 in /usr/local/lib/python3.11/dist-packages (from pandas!=2.1.0,>=1.4->statsmodels==0.14.4) (2025.1)\n",
            "Requirement already satisfied: six>=1.5 in /usr/local/lib/python3.11/dist-packages (from python-dateutil>=2.8.2->pandas!=2.1.0,>=1.4->statsmodels==0.14.4) (1.17.0)\n",
            "Collecting econml==0.15.1\n",
            "  Downloading econml-0.15.1-cp311-cp311-manylinux_2_17_x86_64.manylinux2014_x86_64.whl.metadata (38 kB)\n",
            "Requirement already satisfied: numpy<2 in /usr/local/lib/python3.11/dist-packages (from econml==0.15.1) (1.26.4)\n",
            "Requirement already satisfied: scipy>1.4.0 in /usr/local/lib/python3.11/dist-packages (from econml==0.15.1) (1.14.1)\n",
            "Requirement already satisfied: scikit-learn<1.6,>=1.0 in /usr/local/lib/python3.11/dist-packages (from econml==0.15.1) (1.5.2)\n",
            "Collecting sparse (from econml==0.15.1)\n",
            "  Downloading sparse-0.15.5-py2.py3-none-any.whl.metadata (4.4 kB)\n",
            "Requirement already satisfied: joblib>=0.13.0 in /usr/local/lib/python3.11/dist-packages (from econml==0.15.1) (1.4.2)\n",
            "Requirement already satisfied: statsmodels>=0.10 in /usr/local/lib/python3.11/dist-packages (from econml==0.15.1) (0.14.4)\n",
            "Requirement already satisfied: pandas>1.0 in /usr/local/lib/python3.11/dist-packages (from econml==0.15.1) (2.2.2)\n",
            "Collecting shap<0.44.0,>=0.38.1 (from econml==0.15.1)\n",
            "  Downloading shap-0.43.0-cp311-cp311-manylinux_2_12_x86_64.manylinux2010_x86_64.manylinux_2_17_x86_64.manylinux2014_x86_64.whl.metadata (24 kB)\n",
            "Requirement already satisfied: lightgbm in /usr/local/lib/python3.11/dist-packages (from econml==0.15.1) (4.5.0)\n",
            "Requirement already satisfied: packaging in /usr/local/lib/python3.11/dist-packages (from econml==0.15.1) (24.2)\n",
            "Requirement already satisfied: python-dateutil>=2.8.2 in /usr/local/lib/python3.11/dist-packages (from pandas>1.0->econml==0.15.1) (2.8.2)\n",
            "Requirement already satisfied: pytz>=2020.1 in /usr/local/lib/python3.11/dist-packages (from pandas>1.0->econml==0.15.1) (2025.1)\n",
            "Requirement already satisfied: tzdata>=2022.7 in /usr/local/lib/python3.11/dist-packages (from pandas>1.0->econml==0.15.1) (2025.1)\n",
            "Requirement already satisfied: threadpoolctl>=3.1.0 in /usr/local/lib/python3.11/dist-packages (from scikit-learn<1.6,>=1.0->econml==0.15.1) (3.5.0)\n",
            "Requirement already satisfied: tqdm>=4.27.0 in /usr/local/lib/python3.11/dist-packages (from shap<0.44.0,>=0.38.1->econml==0.15.1) (4.67.1)\n",
            "Collecting slicer==0.0.7 (from shap<0.44.0,>=0.38.1->econml==0.15.1)\n",
            "  Downloading slicer-0.0.7-py3-none-any.whl.metadata (3.7 kB)\n",
            "Requirement already satisfied: numba in /usr/local/lib/python3.11/dist-packages (from shap<0.44.0,>=0.38.1->econml==0.15.1) (0.60.0)\n",
            "Requirement already satisfied: cloudpickle in /usr/local/lib/python3.11/dist-packages (from shap<0.44.0,>=0.38.1->econml==0.15.1) (3.1.1)\n",
            "Requirement already satisfied: patsy>=0.5.6 in /usr/local/lib/python3.11/dist-packages (from statsmodels>=0.10->econml==0.15.1) (1.0.1)\n",
            "Requirement already satisfied: llvmlite<0.44,>=0.43.0dev0 in /usr/local/lib/python3.11/dist-packages (from numba->shap<0.44.0,>=0.38.1->econml==0.15.1) (0.43.0)\n",
            "Requirement already satisfied: six>=1.5 in /usr/local/lib/python3.11/dist-packages (from python-dateutil>=2.8.2->pandas>1.0->econml==0.15.1) (1.17.0)\n",
            "Downloading econml-0.15.1-cp311-cp311-manylinux_2_17_x86_64.manylinux2014_x86_64.whl (4.7 MB)\n",
            "\u001b[2K   \u001b[90m━━━━━━━━━━━━━━━━━━━━━━━━━━━━━━━━━━━━━━━━\u001b[0m \u001b[32m4.7/4.7 MB\u001b[0m \u001b[31m48.2 MB/s\u001b[0m eta \u001b[36m0:00:00\u001b[0m\n",
            "\u001b[?25hDownloading shap-0.43.0-cp311-cp311-manylinux_2_12_x86_64.manylinux2010_x86_64.manylinux_2_17_x86_64.manylinux2014_x86_64.whl (532 kB)\n",
            "\u001b[2K   \u001b[90m━━━━━━━━━━━━━━━━━━━━━━━━━━━━━━━━━━━━━━━━\u001b[0m \u001b[32m532.9/532.9 kB\u001b[0m \u001b[31m33.2 MB/s\u001b[0m eta \u001b[36m0:00:00\u001b[0m\n",
            "\u001b[?25hDownloading slicer-0.0.7-py3-none-any.whl (14 kB)\n",
            "Downloading sparse-0.15.5-py2.py3-none-any.whl (117 kB)\n",
            "\u001b[2K   \u001b[90m━━━━━━━━━━━━━━━━━━━━━━━━━━━━━━━━━━━━━━━━\u001b[0m \u001b[32m117.4/117.4 kB\u001b[0m \u001b[31m9.1 MB/s\u001b[0m eta \u001b[36m0:00:00\u001b[0m\n",
            "\u001b[?25hInstalling collected packages: slicer, sparse, shap, econml\n",
            "  Attempting uninstall: slicer\n",
            "    Found existing installation: slicer 0.0.8\n",
            "    Uninstalling slicer-0.0.8:\n",
            "      Successfully uninstalled slicer-0.0.8\n",
            "  Attempting uninstall: shap\n",
            "    Found existing installation: shap 0.46.0\n",
            "    Uninstalling shap-0.46.0:\n",
            "      Successfully uninstalled shap-0.46.0\n",
            "Successfully installed econml-0.15.1 shap-0.43.0 slicer-0.0.7 sparse-0.15.5\n"
          ]
        }
      ]
    },
    {
      "cell_type": "code",
      "metadata": {
        "id": "hQP9W7X7sTi9",
        "outputId": "024c9d41-802a-46e2-cf96-0278c87282bf",
        "colab": {
          "base_uri": "https://localhost:8080/",
          "height": 393
        }
      },
      "source": [
        "import math\n",
        "import numpy as np\n",
        "import pandas as pd\n",
        "import statsmodels.api as sm\n",
        "\n",
        "from sklearn.datasets import fetch_20newsgroups\n",
        "from sklearn.decomposition import NMF\n",
        "from sklearn.exceptions import ConvergenceWarning\n",
        "from sklearn.feature_extraction.text import TfidfVectorizer\n",
        "from sklearn.linear_model import Lasso, LassoCV\n",
        "from sklearn.model_selection import train_test_split\n",
        "\n",
        "from tqdm.notebook import tqdm\n",
        "\n",
        "from warnings import simplefilter\n",
        "simplefilter(\"ignore\", category=ConvergenceWarning)"
      ],
      "execution_count": null,
      "outputs": [
        {
          "output_type": "error",
          "ename": "ImportError",
          "evalue": "cannot import name 'LinearDMLCateEstimator' from 'econml.dml' (/usr/local/lib/python3.11/dist-packages/econml/dml/__init__.py)",
          "traceback": [
            "\u001b[0;31m---------------------------------------------------------------------------\u001b[0m",
            "\u001b[0;31mImportError\u001b[0m                               Traceback (most recent call last)",
            "\u001b[0;32m<ipython-input-3-83c4ab7d5be2>\u001b[0m in \u001b[0;36m<cell line: 0>\u001b[0;34m()\u001b[0m\n\u001b[1;32m      5\u001b[0m \u001b[0;32mimport\u001b[0m \u001b[0mstatsmodels\u001b[0m\u001b[0;34m.\u001b[0m\u001b[0mapi\u001b[0m \u001b[0;32mas\u001b[0m \u001b[0msm\u001b[0m\u001b[0;34m\u001b[0m\u001b[0;34m\u001b[0m\u001b[0m\n\u001b[1;32m      6\u001b[0m \u001b[0;34m\u001b[0m\u001b[0m\n\u001b[0;32m----> 7\u001b[0;31m \u001b[0;32mfrom\u001b[0m \u001b[0meconml\u001b[0m\u001b[0;34m.\u001b[0m\u001b[0mdml\u001b[0m \u001b[0;32mimport\u001b[0m \u001b[0mLinearDMLCateEstimator\u001b[0m\u001b[0;34m\u001b[0m\u001b[0;34m\u001b[0m\u001b[0m\n\u001b[0m\u001b[1;32m      8\u001b[0m \u001b[0;34m\u001b[0m\u001b[0m\n\u001b[1;32m      9\u001b[0m \u001b[0;32mfrom\u001b[0m \u001b[0msklearn\u001b[0m\u001b[0;34m.\u001b[0m\u001b[0mdatasets\u001b[0m \u001b[0;32mimport\u001b[0m \u001b[0mfetch_20newsgroups\u001b[0m\u001b[0;34m\u001b[0m\u001b[0;34m\u001b[0m\u001b[0m\n",
            "\u001b[0;31mImportError\u001b[0m: cannot import name 'LinearDMLCateEstimator' from 'econml.dml' (/usr/local/lib/python3.11/dist-packages/econml/dml/__init__.py)",
            "",
            "\u001b[0;31m---------------------------------------------------------------------------\u001b[0;32m\nNOTE: If your import is failing due to a missing package, you can\nmanually install dependencies using either !pip or !apt.\n\nTo view examples of installing some common dependencies, click the\n\"Open Examples\" button below.\n\u001b[0;31m---------------------------------------------------------------------------\u001b[0m\n"
          ],
          "errorDetails": {
            "actions": [
              {
                "action": "open_url",
                "actionText": "Open Examples",
                "url": "/notebooks/snippets/importing_libraries.ipynb"
              }
            ]
          }
        }
      ]
    },
    {
      "cell_type": "code",
      "source": [
        "import doubleml\n",
        "# import econml.dml\n",
        "# econml.dml.LinearDML\n",
        "from econml.dml import LinearDML"
      ],
      "metadata": {
        "id": "48-spEURa9NL"
      },
      "execution_count": null,
      "outputs": []
    },
    {
      "cell_type": "markdown",
      "metadata": {
        "id": "q_XSVAlrsTi-"
      },
      "source": [
        "## Fetch and relabel 20Newsgroups data, construct TF-IDF matrices\n",
        "\n",
        "Experiment with the TfidfVectorizer parameters."
      ]
    },
    {
      "cell_type": "code",
      "source": [
        "newsgroup_data = fetch_20newsgroups(subset=\"train\", remove=(\"headers\", \"footers\", \"quotes\"), shuffle=False)"
      ],
      "metadata": {
        "id": "Q7w95ovkbW7M"
      },
      "execution_count": null,
      "outputs": []
    },
    {
      "cell_type": "code",
      "metadata": {
        "colab": {
          "base_uri": "https://localhost:8080/"
        },
        "id": "rVlcYRljsTi_",
        "outputId": "e2851096-d9fc-4a5a-dfa9-6f55b87ebdab"
      },
      "source": [
        "\n",
        "target_name_to_label = {\n",
        " 'comp.graphics': 1,\n",
        " 'comp.os.ms-windows.misc': 1,\n",
        " 'comp.sys.ibm.pc.hardware': 1,\n",
        " 'comp.sys.mac.hardware': 1,\n",
        " 'comp.windows.x': 1,\n",
        " 'misc.forsale': 2,\n",
        " 'rec.autos': 3,\n",
        " 'rec.motorcycles': 3,\n",
        " 'rec.sport.baseball': 4,\n",
        " 'rec.sport.hockey': 4,\n",
        " 'sci.crypt': 5,\n",
        " 'sci.electronics': 6,\n",
        " 'sci.med': 7,\n",
        " 'sci.space': 8,\n",
        " 'alt.atheism': 9,\n",
        " 'soc.religion.christian': 9,\n",
        " 'talk.religion.misc': 9,\n",
        " 'talk.politics.guns': 10,\n",
        " 'talk.politics.mideast': 10,\n",
        " 'talk.politics.misc': 10,\n",
        "}\n",
        "label_names = [\"comp\", \"sale\", \"auto\", \"sport\", \"crypt\", \"electronics\", \"med\", \"space\", \"religion\", \"politics\"]\n",
        "labels = [target_name_to_label[newsgroup_data.target_names[original_label]]\n",
        "              for original_label in newsgroup_data.target]\n",
        "labels = np.array(labels)\n",
        "\n",
        "vectorizer = TfidfVectorizer(min_df=25, max_df=0.01)\n",
        "tfidf_vectors = vectorizer.fit_transform(newsgroup_data.data).toarray()\n",
        "print(tfidf_vectors.shape, labels.shape)\n",
        "\n",
        "documents = []\n",
        "dropped_document_idx = set([])\n",
        "vocabset = vectorizer.vocabulary_\n",
        "for idx, text in enumerate(newsgroup_data.data):\n",
        "    document = []\n",
        "    for token in text.split(\" \"):\n",
        "        if token not in vocabset:\n",
        "            continue\n",
        "        document.append(token)\n",
        "\n",
        "    if len(document) == 0:\n",
        "        dropped_document_idx.add(idx)\n",
        "        continue\n",
        "\n",
        "    document = \" \".join(document)\n",
        "    if len(document) > 1000:\n",
        "        document = document[:1000]\n",
        "\n",
        "    documents.append(document)\n",
        "\n",
        "tfidf_vectors = np.array([tfidf_vectors[idx, :]\n",
        "                          for idx in range(tfidf_vectors.shape[0])\n",
        "                          if idx not in dropped_document_idx])\n",
        "labels = np.array([labels[idx]\n",
        "                   for idx in range(len(labels))\n",
        "                   if idx not in dropped_document_idx])\n",
        "print(tfidf_vectors.shape, labels.shape, len(documents))"
      ],
      "execution_count": null,
      "outputs": [
        {
          "output_type": "stream",
          "name": "stdout",
          "text": [
            "(11314, 3882) (11314,)\n",
            "(9816, 3882) (9816,) 9816\n"
          ]
        }
      ]
    },
    {
      "cell_type": "markdown",
      "metadata": {
        "id": "zi5f_inRsTjB"
      },
      "source": [
        "## Simulate Data for Treatment Effects\n",
        "\n",
        "For each document $i$, a row of the data consists of:\n",
        "\n",
        "   * Unobserved confounder $U_i$: Binary, equals 1 if text is from a newsgroup on religion\n",
        "   * Treatment $Z_i$: depends on $U_i$\n",
        "   * Outcome $Y_i$: Real-valued, depends on $Z_i$ and $U_i$\n",
        "   * Document TF-IDF vector $\\pmb{X}_i$\n",
        "   \n",
        "**The true treatment effect is 0.05.**\n",
        "\n",
        "You can play around with the manner of simulation (eg. increase the treatment effect size)."
      ]
    },
    {
      "cell_type": "code",
      "metadata": {
        "colab": {
          "base_uri": "https://localhost:8080/",
          "height": 49,
          "referenced_widgets": [
            "662393d48b134a6892041ec35bacf142",
            "1e660e25466e420d84431eac82a03108",
            "05f2f3129e874c809983e3f2c0cfaa0d",
            "63a35fabcc7c4137941209f21f083591",
            "ec362930be8e4f669e18d074f90183c3",
            "ae28e2f8ca1745719fb77209ef2e7f81",
            "7cbf6d6d949841c9b3de8d86122d369e",
            "8666e95f58e04e9497c7ada9ccba6003",
            "36b99bc6b35a49c1937ec1a2110ae0b6",
            "0e321b7d21714be09bbdededc92810e2",
            "f4677622d12b483bb5835759c8b13af6"
          ]
        },
        "id": "UkA1JfY4sTjB",
        "outputId": "c506d033-142b-45e5-d459-a97ace42ef9e"
      },
      "source": [
        "def sigmoid(x):\n",
        "    return 1. / (1. + math.exp(-x))\n",
        "\n",
        "simulated_data = []\n",
        "for idx in tqdm(range(tfidf_vectors.shape[0])):\n",
        "    # confounder\n",
        "    U = int(labels[idx]==9) # unobserved confounder = religion topic, influences text\n",
        "\n",
        "    # treatment\n",
        "    Z = 2.*U + np.random.normal(loc=0.5, scale=5.0)  # Z depends on U\n",
        "\n",
        "    # binary outcome\n",
        "    # yprob = sigmoid(-0.5 + 0.05*Z + 5.0*U)\n",
        "    # Y = np.random.choice(a=[0, 1],  p=[1.0 - yprob, yprob])\n",
        "    Y = -0.5 + 0.05*Z + 5.0*U + np.random.normal(0.0, 0.1)\n",
        "\n",
        "    simulated_data.append([Y, Z, U] + list(tfidf_vectors[idx]))\n",
        "\n",
        "simulated_data = np.array(simulated_data)"
      ],
      "execution_count": null,
      "outputs": [
        {
          "output_type": "display_data",
          "data": {
            "text/plain": [
              "  0%|          | 0/9816 [00:00<?, ?it/s]"
            ],
            "application/vnd.jupyter.widget-view+json": {
              "version_major": 2,
              "version_minor": 0,
              "model_id": "662393d48b134a6892041ec35bacf142"
            }
          },
          "metadata": {}
        }
      ]
    },
    {
      "cell_type": "markdown",
      "metadata": {
        "id": "8SIymvlDsTjC"
      },
      "source": [
        "## Convert to Pandas Dataframe, Describe Data"
      ]
    },
    {
      "cell_type": "code",
      "metadata": {
        "colab": {
          "base_uri": "https://localhost:8080/",
          "height": 444
        },
        "id": "bPTlSRHzsTjC",
        "outputId": "2c80febe-b0e7-45a4-a128-c1c742dda61d"
      },
      "source": [
        "df = pd.DataFrame(simulated_data)\n",
        "df.columns = [\"Y\", \"Z\", \"U\"] + [\"Word\" + str(i) for i in range(tfidf_vectors.shape[1])]\n",
        "df"
      ],
      "execution_count": null,
      "outputs": [
        {
          "output_type": "execute_result",
          "data": {
            "text/plain": [
              "             Y         Z    U  Word0  Word1  Word2  Word3  Word4  Word5  \\\n",
              "0    -0.550004 -0.175754  0.0    0.0    0.0    0.0    0.0    0.0    0.0   \n",
              "1    -0.193151  7.361598  0.0    0.0    0.0    0.0    0.0    0.0    0.0   \n",
              "2    -0.585976 -0.033961  0.0    0.0    0.0    0.0    0.0    0.0    0.0   \n",
              "3    -0.537587  1.309374  0.0    0.0    0.0    0.0    0.0    0.0    0.0   \n",
              "4     4.364608 -2.363818  1.0    0.0    0.0    0.0    0.0    0.0    0.0   \n",
              "...        ...       ...  ...    ...    ...    ...    ...    ...    ...   \n",
              "9811 -0.217790  7.760225  0.0    0.0    0.0    0.0    0.0    0.0    0.0   \n",
              "9812 -0.493252 -1.178868  0.0    0.0    0.0    0.0    0.0    0.0    0.0   \n",
              "9813 -0.658394 -1.663144  0.0    0.0    0.0    0.0    0.0    0.0    0.0   \n",
              "9814 -0.358523  2.770806  0.0    0.0    0.0    0.0    0.0    0.0    0.0   \n",
              "9815 -0.038385  6.308155  0.0    0.0    0.0    0.0    0.0    0.0    0.0   \n",
              "\n",
              "      Word6  ...  Word3872  Word3873  Word3874  Word3875  Word3876  Word3877  \\\n",
              "0       0.0  ...       0.0       0.0  0.000000       0.0       0.0       0.0   \n",
              "1       0.0  ...       0.0       0.0  0.148449       0.0       0.0       0.0   \n",
              "2       0.0  ...       0.0       0.0  0.000000       0.0       0.0       0.0   \n",
              "3       0.0  ...       0.0       0.0  0.000000       0.0       0.0       0.0   \n",
              "4       0.0  ...       0.0       0.0  0.000000       0.0       0.0       0.0   \n",
              "...     ...  ...       ...       ...       ...       ...       ...       ...   \n",
              "9811    0.0  ...       0.0       0.0  0.000000       0.0       0.0       0.0   \n",
              "9812    0.0  ...       0.0       0.0  0.000000       0.0       0.0       0.0   \n",
              "9813    0.0  ...       0.0       0.0  0.000000       0.0       0.0       0.0   \n",
              "9814    0.0  ...       0.0       0.0  0.000000       0.0       0.0       0.0   \n",
              "9815    0.0  ...       0.0       0.0  0.000000       0.0       0.0       0.0   \n",
              "\n",
              "      Word3878  Word3879  Word3880  Word3881  \n",
              "0          0.0       0.0  0.000000       0.0  \n",
              "1          0.0       0.0  0.000000       0.0  \n",
              "2          0.0       0.0  0.021589       0.0  \n",
              "3          0.0       0.0  0.000000       0.0  \n",
              "4          0.0       0.0  0.000000       0.0  \n",
              "...        ...       ...       ...       ...  \n",
              "9811       0.0       0.0  0.000000       0.0  \n",
              "9812       0.0       0.0  0.000000       0.0  \n",
              "9813       0.0       0.0  0.000000       0.0  \n",
              "9814       0.0       0.0  0.000000       0.0  \n",
              "9815       0.0       0.0  0.000000       0.0  \n",
              "\n",
              "[9816 rows x 3885 columns]"
            ],
            "text/html": [
              "\n",
              "  <div id=\"df-0c513094-e049-495e-8291-b7bbcd5564ff\" class=\"colab-df-container\">\n",
              "    <div>\n",
              "<style scoped>\n",
              "    .dataframe tbody tr th:only-of-type {\n",
              "        vertical-align: middle;\n",
              "    }\n",
              "\n",
              "    .dataframe tbody tr th {\n",
              "        vertical-align: top;\n",
              "    }\n",
              "\n",
              "    .dataframe thead th {\n",
              "        text-align: right;\n",
              "    }\n",
              "</style>\n",
              "<table border=\"1\" class=\"dataframe\">\n",
              "  <thead>\n",
              "    <tr style=\"text-align: right;\">\n",
              "      <th></th>\n",
              "      <th>Y</th>\n",
              "      <th>Z</th>\n",
              "      <th>U</th>\n",
              "      <th>Word0</th>\n",
              "      <th>Word1</th>\n",
              "      <th>Word2</th>\n",
              "      <th>Word3</th>\n",
              "      <th>Word4</th>\n",
              "      <th>Word5</th>\n",
              "      <th>Word6</th>\n",
              "      <th>...</th>\n",
              "      <th>Word3872</th>\n",
              "      <th>Word3873</th>\n",
              "      <th>Word3874</th>\n",
              "      <th>Word3875</th>\n",
              "      <th>Word3876</th>\n",
              "      <th>Word3877</th>\n",
              "      <th>Word3878</th>\n",
              "      <th>Word3879</th>\n",
              "      <th>Word3880</th>\n",
              "      <th>Word3881</th>\n",
              "    </tr>\n",
              "  </thead>\n",
              "  <tbody>\n",
              "    <tr>\n",
              "      <th>0</th>\n",
              "      <td>-0.550004</td>\n",
              "      <td>-0.175754</td>\n",
              "      <td>0.0</td>\n",
              "      <td>0.0</td>\n",
              "      <td>0.0</td>\n",
              "      <td>0.0</td>\n",
              "      <td>0.0</td>\n",
              "      <td>0.0</td>\n",
              "      <td>0.0</td>\n",
              "      <td>0.0</td>\n",
              "      <td>...</td>\n",
              "      <td>0.0</td>\n",
              "      <td>0.0</td>\n",
              "      <td>0.000000</td>\n",
              "      <td>0.0</td>\n",
              "      <td>0.0</td>\n",
              "      <td>0.0</td>\n",
              "      <td>0.0</td>\n",
              "      <td>0.0</td>\n",
              "      <td>0.000000</td>\n",
              "      <td>0.0</td>\n",
              "    </tr>\n",
              "    <tr>\n",
              "      <th>1</th>\n",
              "      <td>-0.193151</td>\n",
              "      <td>7.361598</td>\n",
              "      <td>0.0</td>\n",
              "      <td>0.0</td>\n",
              "      <td>0.0</td>\n",
              "      <td>0.0</td>\n",
              "      <td>0.0</td>\n",
              "      <td>0.0</td>\n",
              "      <td>0.0</td>\n",
              "      <td>0.0</td>\n",
              "      <td>...</td>\n",
              "      <td>0.0</td>\n",
              "      <td>0.0</td>\n",
              "      <td>0.148449</td>\n",
              "      <td>0.0</td>\n",
              "      <td>0.0</td>\n",
              "      <td>0.0</td>\n",
              "      <td>0.0</td>\n",
              "      <td>0.0</td>\n",
              "      <td>0.000000</td>\n",
              "      <td>0.0</td>\n",
              "    </tr>\n",
              "    <tr>\n",
              "      <th>2</th>\n",
              "      <td>-0.585976</td>\n",
              "      <td>-0.033961</td>\n",
              "      <td>0.0</td>\n",
              "      <td>0.0</td>\n",
              "      <td>0.0</td>\n",
              "      <td>0.0</td>\n",
              "      <td>0.0</td>\n",
              "      <td>0.0</td>\n",
              "      <td>0.0</td>\n",
              "      <td>0.0</td>\n",
              "      <td>...</td>\n",
              "      <td>0.0</td>\n",
              "      <td>0.0</td>\n",
              "      <td>0.000000</td>\n",
              "      <td>0.0</td>\n",
              "      <td>0.0</td>\n",
              "      <td>0.0</td>\n",
              "      <td>0.0</td>\n",
              "      <td>0.0</td>\n",
              "      <td>0.021589</td>\n",
              "      <td>0.0</td>\n",
              "    </tr>\n",
              "    <tr>\n",
              "      <th>3</th>\n",
              "      <td>-0.537587</td>\n",
              "      <td>1.309374</td>\n",
              "      <td>0.0</td>\n",
              "      <td>0.0</td>\n",
              "      <td>0.0</td>\n",
              "      <td>0.0</td>\n",
              "      <td>0.0</td>\n",
              "      <td>0.0</td>\n",
              "      <td>0.0</td>\n",
              "      <td>0.0</td>\n",
              "      <td>...</td>\n",
              "      <td>0.0</td>\n",
              "      <td>0.0</td>\n",
              "      <td>0.000000</td>\n",
              "      <td>0.0</td>\n",
              "      <td>0.0</td>\n",
              "      <td>0.0</td>\n",
              "      <td>0.0</td>\n",
              "      <td>0.0</td>\n",
              "      <td>0.000000</td>\n",
              "      <td>0.0</td>\n",
              "    </tr>\n",
              "    <tr>\n",
              "      <th>4</th>\n",
              "      <td>4.364608</td>\n",
              "      <td>-2.363818</td>\n",
              "      <td>1.0</td>\n",
              "      <td>0.0</td>\n",
              "      <td>0.0</td>\n",
              "      <td>0.0</td>\n",
              "      <td>0.0</td>\n",
              "      <td>0.0</td>\n",
              "      <td>0.0</td>\n",
              "      <td>0.0</td>\n",
              "      <td>...</td>\n",
              "      <td>0.0</td>\n",
              "      <td>0.0</td>\n",
              "      <td>0.000000</td>\n",
              "      <td>0.0</td>\n",
              "      <td>0.0</td>\n",
              "      <td>0.0</td>\n",
              "      <td>0.0</td>\n",
              "      <td>0.0</td>\n",
              "      <td>0.000000</td>\n",
              "      <td>0.0</td>\n",
              "    </tr>\n",
              "    <tr>\n",
              "      <th>...</th>\n",
              "      <td>...</td>\n",
              "      <td>...</td>\n",
              "      <td>...</td>\n",
              "      <td>...</td>\n",
              "      <td>...</td>\n",
              "      <td>...</td>\n",
              "      <td>...</td>\n",
              "      <td>...</td>\n",
              "      <td>...</td>\n",
              "      <td>...</td>\n",
              "      <td>...</td>\n",
              "      <td>...</td>\n",
              "      <td>...</td>\n",
              "      <td>...</td>\n",
              "      <td>...</td>\n",
              "      <td>...</td>\n",
              "      <td>...</td>\n",
              "      <td>...</td>\n",
              "      <td>...</td>\n",
              "      <td>...</td>\n",
              "      <td>...</td>\n",
              "    </tr>\n",
              "    <tr>\n",
              "      <th>9811</th>\n",
              "      <td>-0.217790</td>\n",
              "      <td>7.760225</td>\n",
              "      <td>0.0</td>\n",
              "      <td>0.0</td>\n",
              "      <td>0.0</td>\n",
              "      <td>0.0</td>\n",
              "      <td>0.0</td>\n",
              "      <td>0.0</td>\n",
              "      <td>0.0</td>\n",
              "      <td>0.0</td>\n",
              "      <td>...</td>\n",
              "      <td>0.0</td>\n",
              "      <td>0.0</td>\n",
              "      <td>0.000000</td>\n",
              "      <td>0.0</td>\n",
              "      <td>0.0</td>\n",
              "      <td>0.0</td>\n",
              "      <td>0.0</td>\n",
              "      <td>0.0</td>\n",
              "      <td>0.000000</td>\n",
              "      <td>0.0</td>\n",
              "    </tr>\n",
              "    <tr>\n",
              "      <th>9812</th>\n",
              "      <td>-0.493252</td>\n",
              "      <td>-1.178868</td>\n",
              "      <td>0.0</td>\n",
              "      <td>0.0</td>\n",
              "      <td>0.0</td>\n",
              "      <td>0.0</td>\n",
              "      <td>0.0</td>\n",
              "      <td>0.0</td>\n",
              "      <td>0.0</td>\n",
              "      <td>0.0</td>\n",
              "      <td>...</td>\n",
              "      <td>0.0</td>\n",
              "      <td>0.0</td>\n",
              "      <td>0.000000</td>\n",
              "      <td>0.0</td>\n",
              "      <td>0.0</td>\n",
              "      <td>0.0</td>\n",
              "      <td>0.0</td>\n",
              "      <td>0.0</td>\n",
              "      <td>0.000000</td>\n",
              "      <td>0.0</td>\n",
              "    </tr>\n",
              "    <tr>\n",
              "      <th>9813</th>\n",
              "      <td>-0.658394</td>\n",
              "      <td>-1.663144</td>\n",
              "      <td>0.0</td>\n",
              "      <td>0.0</td>\n",
              "      <td>0.0</td>\n",
              "      <td>0.0</td>\n",
              "      <td>0.0</td>\n",
              "      <td>0.0</td>\n",
              "      <td>0.0</td>\n",
              "      <td>0.0</td>\n",
              "      <td>...</td>\n",
              "      <td>0.0</td>\n",
              "      <td>0.0</td>\n",
              "      <td>0.000000</td>\n",
              "      <td>0.0</td>\n",
              "      <td>0.0</td>\n",
              "      <td>0.0</td>\n",
              "      <td>0.0</td>\n",
              "      <td>0.0</td>\n",
              "      <td>0.000000</td>\n",
              "      <td>0.0</td>\n",
              "    </tr>\n",
              "    <tr>\n",
              "      <th>9814</th>\n",
              "      <td>-0.358523</td>\n",
              "      <td>2.770806</td>\n",
              "      <td>0.0</td>\n",
              "      <td>0.0</td>\n",
              "      <td>0.0</td>\n",
              "      <td>0.0</td>\n",
              "      <td>0.0</td>\n",
              "      <td>0.0</td>\n",
              "      <td>0.0</td>\n",
              "      <td>0.0</td>\n",
              "      <td>...</td>\n",
              "      <td>0.0</td>\n",
              "      <td>0.0</td>\n",
              "      <td>0.000000</td>\n",
              "      <td>0.0</td>\n",
              "      <td>0.0</td>\n",
              "      <td>0.0</td>\n",
              "      <td>0.0</td>\n",
              "      <td>0.0</td>\n",
              "      <td>0.000000</td>\n",
              "      <td>0.0</td>\n",
              "    </tr>\n",
              "    <tr>\n",
              "      <th>9815</th>\n",
              "      <td>-0.038385</td>\n",
              "      <td>6.308155</td>\n",
              "      <td>0.0</td>\n",
              "      <td>0.0</td>\n",
              "      <td>0.0</td>\n",
              "      <td>0.0</td>\n",
              "      <td>0.0</td>\n",
              "      <td>0.0</td>\n",
              "      <td>0.0</td>\n",
              "      <td>0.0</td>\n",
              "      <td>...</td>\n",
              "      <td>0.0</td>\n",
              "      <td>0.0</td>\n",
              "      <td>0.000000</td>\n",
              "      <td>0.0</td>\n",
              "      <td>0.0</td>\n",
              "      <td>0.0</td>\n",
              "      <td>0.0</td>\n",
              "      <td>0.0</td>\n",
              "      <td>0.000000</td>\n",
              "      <td>0.0</td>\n",
              "    </tr>\n",
              "  </tbody>\n",
              "</table>\n",
              "<p>9816 rows × 3885 columns</p>\n",
              "</div>\n",
              "    <div class=\"colab-df-buttons\">\n",
              "\n",
              "  <div class=\"colab-df-container\">\n",
              "    <button class=\"colab-df-convert\" onclick=\"convertToInteractive('df-0c513094-e049-495e-8291-b7bbcd5564ff')\"\n",
              "            title=\"Convert this dataframe to an interactive table.\"\n",
              "            style=\"display:none;\">\n",
              "\n",
              "  <svg xmlns=\"http://www.w3.org/2000/svg\" height=\"24px\" viewBox=\"0 -960 960 960\">\n",
              "    <path d=\"M120-120v-720h720v720H120Zm60-500h600v-160H180v160Zm220 220h160v-160H400v160Zm0 220h160v-160H400v160ZM180-400h160v-160H180v160Zm440 0h160v-160H620v160ZM180-180h160v-160H180v160Zm440 0h160v-160H620v160Z\"/>\n",
              "  </svg>\n",
              "    </button>\n",
              "\n",
              "  <style>\n",
              "    .colab-df-container {\n",
              "      display:flex;\n",
              "      gap: 12px;\n",
              "    }\n",
              "\n",
              "    .colab-df-convert {\n",
              "      background-color: #E8F0FE;\n",
              "      border: none;\n",
              "      border-radius: 50%;\n",
              "      cursor: pointer;\n",
              "      display: none;\n",
              "      fill: #1967D2;\n",
              "      height: 32px;\n",
              "      padding: 0 0 0 0;\n",
              "      width: 32px;\n",
              "    }\n",
              "\n",
              "    .colab-df-convert:hover {\n",
              "      background-color: #E2EBFA;\n",
              "      box-shadow: 0px 1px 2px rgba(60, 64, 67, 0.3), 0px 1px 3px 1px rgba(60, 64, 67, 0.15);\n",
              "      fill: #174EA6;\n",
              "    }\n",
              "\n",
              "    .colab-df-buttons div {\n",
              "      margin-bottom: 4px;\n",
              "    }\n",
              "\n",
              "    [theme=dark] .colab-df-convert {\n",
              "      background-color: #3B4455;\n",
              "      fill: #D2E3FC;\n",
              "    }\n",
              "\n",
              "    [theme=dark] .colab-df-convert:hover {\n",
              "      background-color: #434B5C;\n",
              "      box-shadow: 0px 1px 3px 1px rgba(0, 0, 0, 0.15);\n",
              "      filter: drop-shadow(0px 1px 2px rgba(0, 0, 0, 0.3));\n",
              "      fill: #FFFFFF;\n",
              "    }\n",
              "  </style>\n",
              "\n",
              "    <script>\n",
              "      const buttonEl =\n",
              "        document.querySelector('#df-0c513094-e049-495e-8291-b7bbcd5564ff button.colab-df-convert');\n",
              "      buttonEl.style.display =\n",
              "        google.colab.kernel.accessAllowed ? 'block' : 'none';\n",
              "\n",
              "      async function convertToInteractive(key) {\n",
              "        const element = document.querySelector('#df-0c513094-e049-495e-8291-b7bbcd5564ff');\n",
              "        const dataTable =\n",
              "          await google.colab.kernel.invokeFunction('convertToInteractive',\n",
              "                                                    [key], {});\n",
              "        if (!dataTable) return;\n",
              "\n",
              "        const docLinkHtml = 'Like what you see? Visit the ' +\n",
              "          '<a target=\"_blank\" href=https://colab.research.google.com/notebooks/data_table.ipynb>data table notebook</a>'\n",
              "          + ' to learn more about interactive tables.';\n",
              "        element.innerHTML = '';\n",
              "        dataTable['output_type'] = 'display_data';\n",
              "        await google.colab.output.renderOutput(dataTable, element);\n",
              "        const docLink = document.createElement('div');\n",
              "        docLink.innerHTML = docLinkHtml;\n",
              "        element.appendChild(docLink);\n",
              "      }\n",
              "    </script>\n",
              "  </div>\n",
              "\n",
              "\n",
              "<div id=\"df-956ee41a-330c-4576-b6d4-7c940ec7ae1d\">\n",
              "  <button class=\"colab-df-quickchart\" onclick=\"quickchart('df-956ee41a-330c-4576-b6d4-7c940ec7ae1d')\"\n",
              "            title=\"Suggest charts\"\n",
              "            style=\"display:none;\">\n",
              "\n",
              "<svg xmlns=\"http://www.w3.org/2000/svg\" height=\"24px\"viewBox=\"0 0 24 24\"\n",
              "     width=\"24px\">\n",
              "    <g>\n",
              "        <path d=\"M19 3H5c-1.1 0-2 .9-2 2v14c0 1.1.9 2 2 2h14c1.1 0 2-.9 2-2V5c0-1.1-.9-2-2-2zM9 17H7v-7h2v7zm4 0h-2V7h2v10zm4 0h-2v-4h2v4z\"/>\n",
              "    </g>\n",
              "</svg>\n",
              "  </button>\n",
              "\n",
              "<style>\n",
              "  .colab-df-quickchart {\n",
              "      --bg-color: #E8F0FE;\n",
              "      --fill-color: #1967D2;\n",
              "      --hover-bg-color: #E2EBFA;\n",
              "      --hover-fill-color: #174EA6;\n",
              "      --disabled-fill-color: #AAA;\n",
              "      --disabled-bg-color: #DDD;\n",
              "  }\n",
              "\n",
              "  [theme=dark] .colab-df-quickchart {\n",
              "      --bg-color: #3B4455;\n",
              "      --fill-color: #D2E3FC;\n",
              "      --hover-bg-color: #434B5C;\n",
              "      --hover-fill-color: #FFFFFF;\n",
              "      --disabled-bg-color: #3B4455;\n",
              "      --disabled-fill-color: #666;\n",
              "  }\n",
              "\n",
              "  .colab-df-quickchart {\n",
              "    background-color: var(--bg-color);\n",
              "    border: none;\n",
              "    border-radius: 50%;\n",
              "    cursor: pointer;\n",
              "    display: none;\n",
              "    fill: var(--fill-color);\n",
              "    height: 32px;\n",
              "    padding: 0;\n",
              "    width: 32px;\n",
              "  }\n",
              "\n",
              "  .colab-df-quickchart:hover {\n",
              "    background-color: var(--hover-bg-color);\n",
              "    box-shadow: 0 1px 2px rgba(60, 64, 67, 0.3), 0 1px 3px 1px rgba(60, 64, 67, 0.15);\n",
              "    fill: var(--button-hover-fill-color);\n",
              "  }\n",
              "\n",
              "  .colab-df-quickchart-complete:disabled,\n",
              "  .colab-df-quickchart-complete:disabled:hover {\n",
              "    background-color: var(--disabled-bg-color);\n",
              "    fill: var(--disabled-fill-color);\n",
              "    box-shadow: none;\n",
              "  }\n",
              "\n",
              "  .colab-df-spinner {\n",
              "    border: 2px solid var(--fill-color);\n",
              "    border-color: transparent;\n",
              "    border-bottom-color: var(--fill-color);\n",
              "    animation:\n",
              "      spin 1s steps(1) infinite;\n",
              "  }\n",
              "\n",
              "  @keyframes spin {\n",
              "    0% {\n",
              "      border-color: transparent;\n",
              "      border-bottom-color: var(--fill-color);\n",
              "      border-left-color: var(--fill-color);\n",
              "    }\n",
              "    20% {\n",
              "      border-color: transparent;\n",
              "      border-left-color: var(--fill-color);\n",
              "      border-top-color: var(--fill-color);\n",
              "    }\n",
              "    30% {\n",
              "      border-color: transparent;\n",
              "      border-left-color: var(--fill-color);\n",
              "      border-top-color: var(--fill-color);\n",
              "      border-right-color: var(--fill-color);\n",
              "    }\n",
              "    40% {\n",
              "      border-color: transparent;\n",
              "      border-right-color: var(--fill-color);\n",
              "      border-top-color: var(--fill-color);\n",
              "    }\n",
              "    60% {\n",
              "      border-color: transparent;\n",
              "      border-right-color: var(--fill-color);\n",
              "    }\n",
              "    80% {\n",
              "      border-color: transparent;\n",
              "      border-right-color: var(--fill-color);\n",
              "      border-bottom-color: var(--fill-color);\n",
              "    }\n",
              "    90% {\n",
              "      border-color: transparent;\n",
              "      border-bottom-color: var(--fill-color);\n",
              "    }\n",
              "  }\n",
              "</style>\n",
              "\n",
              "  <script>\n",
              "    async function quickchart(key) {\n",
              "      const quickchartButtonEl =\n",
              "        document.querySelector('#' + key + ' button');\n",
              "      quickchartButtonEl.disabled = true;  // To prevent multiple clicks.\n",
              "      quickchartButtonEl.classList.add('colab-df-spinner');\n",
              "      try {\n",
              "        const charts = await google.colab.kernel.invokeFunction(\n",
              "            'suggestCharts', [key], {});\n",
              "      } catch (error) {\n",
              "        console.error('Error during call to suggestCharts:', error);\n",
              "      }\n",
              "      quickchartButtonEl.classList.remove('colab-df-spinner');\n",
              "      quickchartButtonEl.classList.add('colab-df-quickchart-complete');\n",
              "    }\n",
              "    (() => {\n",
              "      let quickchartButtonEl =\n",
              "        document.querySelector('#df-956ee41a-330c-4576-b6d4-7c940ec7ae1d button');\n",
              "      quickchartButtonEl.style.display =\n",
              "        google.colab.kernel.accessAllowed ? 'block' : 'none';\n",
              "    })();\n",
              "  </script>\n",
              "</div>\n",
              "\n",
              "  <div id=\"id_ed264878-0ca6-43c4-b59c-3eeaef7b02a3\">\n",
              "    <style>\n",
              "      .colab-df-generate {\n",
              "        background-color: #E8F0FE;\n",
              "        border: none;\n",
              "        border-radius: 50%;\n",
              "        cursor: pointer;\n",
              "        display: none;\n",
              "        fill: #1967D2;\n",
              "        height: 32px;\n",
              "        padding: 0 0 0 0;\n",
              "        width: 32px;\n",
              "      }\n",
              "\n",
              "      .colab-df-generate:hover {\n",
              "        background-color: #E2EBFA;\n",
              "        box-shadow: 0px 1px 2px rgba(60, 64, 67, 0.3), 0px 1px 3px 1px rgba(60, 64, 67, 0.15);\n",
              "        fill: #174EA6;\n",
              "      }\n",
              "\n",
              "      [theme=dark] .colab-df-generate {\n",
              "        background-color: #3B4455;\n",
              "        fill: #D2E3FC;\n",
              "      }\n",
              "\n",
              "      [theme=dark] .colab-df-generate:hover {\n",
              "        background-color: #434B5C;\n",
              "        box-shadow: 0px 1px 3px 1px rgba(0, 0, 0, 0.15);\n",
              "        filter: drop-shadow(0px 1px 2px rgba(0, 0, 0, 0.3));\n",
              "        fill: #FFFFFF;\n",
              "      }\n",
              "    </style>\n",
              "    <button class=\"colab-df-generate\" onclick=\"generateWithVariable('df')\"\n",
              "            title=\"Generate code using this dataframe.\"\n",
              "            style=\"display:none;\">\n",
              "\n",
              "  <svg xmlns=\"http://www.w3.org/2000/svg\" height=\"24px\"viewBox=\"0 0 24 24\"\n",
              "       width=\"24px\">\n",
              "    <path d=\"M7,19H8.4L18.45,9,17,7.55,7,17.6ZM5,21V16.75L18.45,3.32a2,2,0,0,1,2.83,0l1.4,1.43a1.91,1.91,0,0,1,.58,1.4,1.91,1.91,0,0,1-.58,1.4L9.25,21ZM18.45,9,17,7.55Zm-12,3A5.31,5.31,0,0,0,4.9,8.1,5.31,5.31,0,0,0,1,6.5,5.31,5.31,0,0,0,4.9,4.9,5.31,5.31,0,0,0,6.5,1,5.31,5.31,0,0,0,8.1,4.9,5.31,5.31,0,0,0,12,6.5,5.46,5.46,0,0,0,6.5,12Z\"/>\n",
              "  </svg>\n",
              "    </button>\n",
              "    <script>\n",
              "      (() => {\n",
              "      const buttonEl =\n",
              "        document.querySelector('#id_ed264878-0ca6-43c4-b59c-3eeaef7b02a3 button.colab-df-generate');\n",
              "      buttonEl.style.display =\n",
              "        google.colab.kernel.accessAllowed ? 'block' : 'none';\n",
              "\n",
              "      buttonEl.onclick = () => {\n",
              "        google.colab.notebook.generateWithVariable('df');\n",
              "      }\n",
              "      })();\n",
              "    </script>\n",
              "  </div>\n",
              "\n",
              "    </div>\n",
              "  </div>\n"
            ],
            "application/vnd.google.colaboratory.intrinsic+json": {
              "type": "dataframe",
              "variable_name": "df"
            }
          },
          "metadata": {},
          "execution_count": 12
        }
      ]
    },
    {
      "cell_type": "code",
      "metadata": {
        "colab": {
          "base_uri": "https://localhost:8080/",
          "height": 300
        },
        "id": "JjX30VOAsTjD",
        "outputId": "4c9b05ea-6772-487f-a1fd-faf9606b85e0"
      },
      "source": [
        "df[[\"Y\", \"Z\", \"U\"]].describe()"
      ],
      "execution_count": null,
      "outputs": [
        {
          "output_type": "execute_result",
          "data": {
            "text/html": [
              "<div>\n",
              "<style scoped>\n",
              "    .dataframe tbody tr th:only-of-type {\n",
              "        vertical-align: middle;\n",
              "    }\n",
              "\n",
              "    .dataframe tbody tr th {\n",
              "        vertical-align: top;\n",
              "    }\n",
              "\n",
              "    .dataframe thead th {\n",
              "        text-align: right;\n",
              "    }\n",
              "</style>\n",
              "<table border=\"1\" class=\"dataframe\">\n",
              "  <thead>\n",
              "    <tr style=\"text-align: right;\">\n",
              "      <th></th>\n",
              "      <th>Y</th>\n",
              "      <th>Z</th>\n",
              "      <th>U</th>\n",
              "    </tr>\n",
              "  </thead>\n",
              "  <tbody>\n",
              "    <tr>\n",
              "      <th>count</th>\n",
              "      <td>9816.000000</td>\n",
              "      <td>9816.000000</td>\n",
              "      <td>9816.000000</td>\n",
              "    </tr>\n",
              "    <tr>\n",
              "      <th>mean</th>\n",
              "      <td>0.198048</td>\n",
              "      <td>0.702752</td>\n",
              "      <td>0.132641</td>\n",
              "    </tr>\n",
              "    <tr>\n",
              "      <th>std</th>\n",
              "      <td>1.750072</td>\n",
              "      <td>5.038643</td>\n",
              "      <td>0.339203</td>\n",
              "    </tr>\n",
              "    <tr>\n",
              "      <th>min</th>\n",
              "      <td>-1.490108</td>\n",
              "      <td>-17.178154</td>\n",
              "      <td>0.000000</td>\n",
              "    </tr>\n",
              "    <tr>\n",
              "      <th>25%</th>\n",
              "      <td>-0.633092</td>\n",
              "      <td>-2.739312</td>\n",
              "      <td>0.000000</td>\n",
              "    </tr>\n",
              "    <tr>\n",
              "      <th>50%</th>\n",
              "      <td>-0.426790</td>\n",
              "      <td>0.663566</td>\n",
              "      <td>0.000000</td>\n",
              "    </tr>\n",
              "    <tr>\n",
              "      <th>75%</th>\n",
              "      <td>-0.175845</td>\n",
              "      <td>4.163009</td>\n",
              "      <td>0.000000</td>\n",
              "    </tr>\n",
              "    <tr>\n",
              "      <th>max</th>\n",
              "      <td>5.439211</td>\n",
              "      <td>20.845121</td>\n",
              "      <td>1.000000</td>\n",
              "    </tr>\n",
              "  </tbody>\n",
              "</table>\n",
              "</div>"
            ],
            "text/plain": [
              "                 Y            Z            U\n",
              "count  9816.000000  9816.000000  9816.000000\n",
              "mean      0.198048     0.702752     0.132641\n",
              "std       1.750072     5.038643     0.339203\n",
              "min      -1.490108   -17.178154     0.000000\n",
              "25%      -0.633092    -2.739312     0.000000\n",
              "50%      -0.426790     0.663566     0.000000\n",
              "75%      -0.175845     4.163009     0.000000\n",
              "max       5.439211    20.845121     1.000000"
            ]
          },
          "metadata": {},
          "execution_count": 9
        }
      ]
    },
    {
      "cell_type": "markdown",
      "metadata": {
        "id": "Sw3BpszwsTjE"
      },
      "source": [
        "## Treatment Effect Estimation 1: Regress $Y_i$ on $Z_i$ and $U_i$\n",
        "\n",
        "Since the estimation includes the unobserved confounder $U_i$, the treatment effect can\n",
        "be estimated without bias (there are no unobserved confounders)."
      ]
    },
    {
      "cell_type": "code",
      "metadata": {
        "colab": {
          "base_uri": "https://localhost:8080/"
        },
        "id": "WLWkivgKsTjE",
        "outputId": "ed736528-217f-4a93-e29b-0e9513073659"
      },
      "source": [
        "%%time\n",
        "y = simulated_data[:, 0]\n",
        "X = sm.add_constant(simulated_data[:, 1:3])\n",
        "model = sm.OLS(endog=y, exog=X)\n",
        "res = model.fit(method=\"pinv\", maxiter=2000)\n",
        "print(res.summary(yname=\"Y\", xname=[\"const\", \"Z\", \"U\"]))"
      ],
      "execution_count": null,
      "outputs": [
        {
          "output_type": "stream",
          "name": "stdout",
          "text": [
            "                            OLS Regression Results                            \n",
            "==============================================================================\n",
            "Dep. Variable:                      Y   R-squared:                       0.997\n",
            "Model:                            OLS   Adj. R-squared:                  0.997\n",
            "Method:                 Least Squares   F-statistic:                 1.498e+06\n",
            "Date:                Thu, 13 Mar 2025   Prob (F-statistic):               0.00\n",
            "Time:                        17:04:10   Log-Likelihood:                 8680.6\n",
            "No. Observations:                9816   AIC:                        -1.736e+04\n",
            "Df Residuals:                    9813   BIC:                        -1.733e+04\n",
            "Df Model:                           2                                         \n",
            "Covariance Type:            nonrobust                                         \n",
            "==============================================================================\n",
            "                 coef    std err          t      P>|t|      [0.025      0.975]\n",
            "------------------------------------------------------------------------------\n",
            "const         -0.4997      0.001   -459.071      0.000      -0.502      -0.498\n",
            "Z              0.0502      0.000    249.712      0.000       0.050       0.051\n",
            "U              4.9969      0.003   1665.961      0.000       4.991       5.003\n",
            "==============================================================================\n",
            "Omnibus:                        0.464   Durbin-Watson:                   2.028\n",
            "Prob(Omnibus):                  0.793   Jarque-Bera (JB):                0.497\n",
            "Skew:                          -0.001   Prob(JB):                        0.780\n",
            "Kurtosis:                       2.965   Cond. No.                         15.4\n",
            "==============================================================================\n",
            "\n",
            "Notes:\n",
            "[1] Standard Errors assume that the covariance matrix of the errors is correctly specified.\n",
            "CPU times: user 27.4 ms, sys: 14.5 ms, total: 42 ms\n",
            "Wall time: 61.8 ms\n"
          ]
        }
      ]
    },
    {
      "cell_type": "markdown",
      "metadata": {
        "id": "girO2nFBsTjF"
      },
      "source": [
        "## Treatment Effect Estimation 2: Regress $Y_i$ on $Z_i$ only\n",
        "\n",
        "Since the estimation does not include the unobserved confounder $U_i$, the estimated treatment effect will\n",
        "be biased."
      ]
    },
    {
      "cell_type": "code",
      "metadata": {
        "colab": {
          "base_uri": "https://localhost:8080/"
        },
        "id": "_B3gmvEFsTjF",
        "outputId": "28a8d3c6-ba71-44e2-afe5-eb4b2d00032d"
      },
      "source": [
        "%%time\n",
        "y = simulated_data[:, 0]\n",
        "X = sm.add_constant(simulated_data[:, 1:2])\n",
        "model = sm.OLS(endog=y, exog=X)\n",
        "res = model.fit(method=\"pinv\", maxiter=100)\n",
        "print(res.summary(yname=\"Y\", xname=[\"const\", \"Z\"]))"
      ],
      "execution_count": null,
      "outputs": [
        {
          "output_type": "stream",
          "name": "stdout",
          "text": [
            "                            OLS Regression Results                            \n",
            "==============================================================================\n",
            "Dep. Variable:                      Y   R-squared:                       0.073\n",
            "Model:                            OLS   Adj. R-squared:                  0.073\n",
            "Method:                 Least Squares   F-statistic:                     776.9\n",
            "Date:                Thu, 13 Mar 2025   Prob (F-statistic):          1.32e-164\n",
            "Time:                        17:04:13   Log-Likelihood:                -19042.\n",
            "No. Observations:                9816   AIC:                         3.809e+04\n",
            "Df Residuals:                    9814   BIC:                         3.810e+04\n",
            "Df Model:                           1                                         \n",
            "Covariance Type:            nonrobust                                         \n",
            "==============================================================================\n",
            "                 coef    std err          t      P>|t|      [0.025      0.975]\n",
            "------------------------------------------------------------------------------\n",
            "const          0.1288      0.017      7.489      0.000       0.095       0.163\n",
            "Z              0.0936      0.003     27.872      0.000       0.087       0.100\n",
            "==============================================================================\n",
            "Omnibus:                     3665.677   Durbin-Watson:                   2.007\n",
            "Prob(Omnibus):                  0.000   Jarque-Bera (JB):             9958.009\n",
            "Skew:                           2.101   Prob(JB):                         0.00\n",
            "Kurtosis:                       5.586   Cond. No.                         5.19\n",
            "==============================================================================\n",
            "\n",
            "Notes:\n",
            "[1] Standard Errors assume that the covariance matrix of the errors is correctly specified.\n",
            "CPU times: user 20.3 ms, sys: 10.8 ms, total: 31.2 ms\n",
            "Wall time: 17.8 ms\n"
          ]
        }
      ]
    },
    {
      "cell_type": "markdown",
      "metadata": {
        "id": "7q-lDHTSsTjF"
      },
      "source": [
        "## Treatment Effect Estimation 3: Regress $Y_i$ on $Z_i$ and $\\pmb{X}_i$\n",
        "\n",
        "Do not run this, it takes too long, and may not even converge!"
      ]
    },
    {
      "cell_type": "code",
      "metadata": {
        "id": "wOCTGI95sTjG"
      },
      "source": [
        "# %%time\n",
        "# y = simulated_data[:, 0]\n",
        "# X = sm.add_constant(np.hstack((simulated_data[:, 1:2], simulated_data[:, 3:])))\n",
        "# model = sm.OLS(endog=y, exog=X)\n",
        "# res = model.fit(method=\"pinv\", maxiter=200)\n",
        "# res.summary(yname=\"Y\", xname=[\"const\", \"Z\"])"
      ],
      "execution_count": null,
      "outputs": []
    },
    {
      "cell_type": "markdown",
      "metadata": {
        "id": "Jiwhno0csTjG"
      },
      "source": [
        "## Treatment Effect Estimation 4: Regress $Y_i$ on $Z_i$ and Document-Topic Weights\n",
        "\n",
        "Play around with the number of topics."
      ]
    },
    {
      "cell_type": "code",
      "metadata": {
        "colab": {
          "base_uri": "https://localhost:8080/"
        },
        "id": "3M2h4S2fsTjG",
        "outputId": "30d030ea-a3d0-4304-a0c3-6fbfa6eb8b4c"
      },
      "source": [
        "%%time\n",
        "def print_top_words(model, feature_names, n_top_words):\n",
        "    for topic_idx, topic in enumerate(model.components_):\n",
        "        message = \"Topic #%d: \" % topic_idx\n",
        "        message += \" \".join([feature_names[i]\n",
        "                             for i in topic.argsort()[:-n_top_words - 1:-1]])\n",
        "        print(message)\n",
        "    print()\n",
        "\n",
        "numtopics = 50\n",
        "# Non-negative Matrix Factorization\n",
        "nmf = NMF(n_components=numtopics).fit(tfidf_vectors)\n",
        "tfidf_feature_names = vectorizer.vocabulary_\n",
        "# print_top_words(nmf, tfidf_feature_names, 10)\n",
        "nmf_topic_weights = nmf.transform(tfidf_vectors)"
      ],
      "execution_count": null,
      "outputs": [
        {
          "output_type": "stream",
          "name": "stdout",
          "text": [
            "CPU times: user 1min 28s, sys: 10.6 s, total: 1min 38s\n",
            "Wall time: 57.4 s\n"
          ]
        }
      ]
    },
    {
      "cell_type": "code",
      "metadata": {
        "scrolled": false,
        "colab": {
          "base_uri": "https://localhost:8080/"
        },
        "id": "Hm4EZAQzsTjG",
        "outputId": "edffb659-6df7-4e62-c8e9-4cb665adfd10"
      },
      "source": [
        "%%time\n",
        "y = simulated_data[:, 0]\n",
        "X = sm.add_constant(np.hstack((simulated_data[:, 1:2], nmf_topic_weights)))\n",
        "model = sm.OLS(endog=y, exog=X)\n",
        "res = model.fit(method=\"pinv\", maxiter=200)\n",
        "print(res.summary(xname=[\"const\", \"Z\"] + [\"Topic\" + str(i+1) for i in range(numtopics)]))"
      ],
      "execution_count": null,
      "outputs": [
        {
          "output_type": "stream",
          "name": "stdout",
          "text": [
            "                            OLS Regression Results                            \n",
            "==============================================================================\n",
            "Dep. Variable:                      y   R-squared:                       0.532\n",
            "Model:                            OLS   Adj. R-squared:                  0.529\n",
            "Method:                 Least Squares   F-statistic:                     217.5\n",
            "Date:                Thu, 13 Mar 2025   Prob (F-statistic):               0.00\n",
            "Time:                        17:11:15   Log-Likelihood:                -15690.\n",
            "No. Observations:                9816   AIC:                         3.148e+04\n",
            "Df Residuals:                    9764   BIC:                         3.186e+04\n",
            "Df Model:                          51                                         \n",
            "Covariance Type:            nonrobust                                         \n",
            "==============================================================================\n",
            "                 coef    std err          t      P>|t|      [0.025      0.975]\n",
            "------------------------------------------------------------------------------\n",
            "const          0.0864      0.029      2.978      0.003       0.030       0.143\n",
            "Z              0.0710      0.002     29.453      0.000       0.066       0.076\n",
            "Topic1        -1.7928      0.492     -3.646      0.000      -2.757      -0.829\n",
            "Topic2        -3.2726      6.894     -0.475      0.635     -16.786      10.241\n",
            "Topic3        -4.1788      0.739     -5.658      0.000      -5.626      -2.731\n",
            "Topic4        -2.9299      1.067     -2.746      0.006      -5.022      -0.838\n",
            "Topic5        -3.9075      1.188     -3.288      0.001      -6.237      -1.578\n",
            "Topic6       -13.8220      1.820     -7.596      0.000     -17.389     -10.255\n",
            "Topic7        76.9474      1.223     62.940      0.000      74.551      79.344\n",
            "Topic8        -4.6645      1.799     -2.592      0.010      -8.192      -1.138\n",
            "Topic9        -2.6838      0.774     -3.467      0.001      -4.201      -1.167\n",
            "Topic10       -6.3509      2.430     -2.613      0.009     -11.115      -1.587\n",
            "Topic11       -7.8607      1.076     -7.302      0.000      -9.971      -5.751\n",
            "Topic12       40.7986      1.664     24.518      0.000      37.537      44.060\n",
            "Topic13       -3.3791      0.948     -3.566      0.000      -5.237      -1.522\n",
            "Topic14       -3.7377      1.447     -2.584      0.010      -6.573      -0.902\n",
            "Topic15       16.9091      1.384     12.217      0.000      14.196      19.622\n",
            "Topic16       -5.7562      0.976     -5.895      0.000      -7.670      -3.842\n",
            "Topic17      -10.4561      1.568     -6.667      0.000     -13.530      -7.382\n",
            "Topic18       -3.3665      1.141     -2.949      0.003      -5.604      -1.129\n",
            "Topic19       -5.9888      2.322     -2.580      0.010     -10.540      -1.438\n",
            "Topic20       -3.4067      1.192     -2.859      0.004      -5.742      -1.071\n",
            "Topic21       -5.8244      1.087     -5.358      0.000      -7.955      -3.694\n",
            "Topic22       -9.6510      1.984     -4.864      0.000     -13.540      -5.762\n",
            "Topic23       -3.1181      1.124     -2.773      0.006      -5.322      -0.914\n",
            "Topic24       -5.3560      1.344     -3.984      0.000      -7.991      -2.721\n",
            "Topic25       41.3734      1.163     35.567      0.000      39.093      43.654\n",
            "Topic26       -6.4364      0.811     -7.940      0.000      -8.025      -4.847\n",
            "Topic27       -2.1601      1.793     -1.205      0.228      -5.674       1.354\n",
            "Topic28       -7.9001      1.449     -5.452      0.000     -10.741      -5.060\n",
            "Topic29       -3.9411      1.187     -3.321      0.001      -6.267      -1.615\n",
            "Topic30       -2.0914      0.952     -2.196      0.028      -3.958      -0.224\n",
            "Topic31        7.5333      0.757      9.950      0.000       6.049       9.017\n",
            "Topic32       -4.5496      1.071     -4.246      0.000      -6.650      -2.449\n",
            "Topic33       37.8447      1.597     23.694      0.000      34.714      40.976\n",
            "Topic34       -3.3725      0.853     -3.953      0.000      -5.045      -1.700\n",
            "Topic35       -3.9316      1.094     -3.593      0.000      -6.076      -1.787\n",
            "Topic36        0.9264      1.067      0.868      0.385      -1.165       3.017\n",
            "Topic37       -4.5042      0.975     -4.621      0.000      -6.415      -2.594\n",
            "Topic38       -2.4318      0.871     -2.791      0.005      -4.140      -0.724\n",
            "Topic39       -2.4185      1.019     -2.373      0.018      -4.416      -0.421\n",
            "Topic40       -4.9422      0.988     -5.004      0.000      -6.878      -3.006\n",
            "Topic41       -3.4433      0.971     -3.546      0.000      -5.347      -1.540\n",
            "Topic42       -2.8844      0.817     -3.531      0.000      -4.486      -1.283\n",
            "Topic43       -3.6420      0.847     -4.301      0.000      -5.302      -1.982\n",
            "Topic44       -3.4902      0.789     -4.426      0.000      -5.036      -1.944\n",
            "Topic45       -5.9814      0.750     -7.972      0.000      -7.452      -4.511\n",
            "Topic46       -2.7583      0.791     -3.487      0.000      -4.309      -1.208\n",
            "Topic47       -2.4139      0.755     -3.196      0.001      -3.895      -0.933\n",
            "Topic48       -1.2701      0.713     -1.781      0.075      -2.668       0.128\n",
            "Topic49       -0.5155      0.669     -0.770      0.441      -1.827       0.796\n",
            "Topic50       -2.5072      0.679     -3.695      0.000      -3.837      -1.177\n",
            "==============================================================================\n",
            "Omnibus:                     3665.219   Durbin-Watson:                   1.990\n",
            "Prob(Omnibus):                  0.000   Jarque-Bera (JB):            15729.235\n",
            "Skew:                           1.807   Prob(JB):                         0.00\n",
            "Kurtosis:                       8.039   Cond. No.                     2.92e+03\n",
            "==============================================================================\n",
            "\n",
            "Notes:\n",
            "[1] Standard Errors assume that the covariance matrix of the errors is correctly specified.\n",
            "[2] The condition number is large, 2.92e+03. This might indicate that there are\n",
            "strong multicollinearity or other numerical problems.\n",
            "CPU times: user 121 ms, sys: 90.1 ms, total: 211 ms\n",
            "Wall time: 184 ms\n"
          ]
        }
      ]
    },
    {
      "cell_type": "markdown",
      "metadata": {
        "id": "XS8HRCdgsTjH"
      },
      "source": [
        "## Treatment Effect Estimation 5: Regress $Y_i$ on $Z_i$ and $\\pmb{X}_i$ using Double Machine Learning\n",
        "\n",
        "Play around with the type of ML models used to predict the treatment and outcome.\n",
        "\n",
        "Note that some models take really long to train (eg. Random Forests)."
      ]
    },
    {
      "cell_type": "markdown",
      "metadata": {
        "id": "rE0qMr9rsTjH"
      },
      "source": [
        "### Using the [EconML](https://econml.azurewebsites.net/) package"
      ]
    },
    {
      "cell_type": "code",
      "metadata": {
        "scrolled": false,
        "colab": {
          "base_uri": "https://localhost:8080/"
        },
        "id": "cb7ic4wcsTjH",
        "outputId": "a248dbe6-528b-4548-8cbf-880a9b73aa29"
      },
      "source": [
        "%%time\n",
        "Y = simulated_data[:, 0].ravel() # outcome\n",
        "T = simulated_data[:, 1] # treatment\n",
        "W = simulated_data[:, 3:] # text\n",
        "\n",
        "dml_mult = LinearDML(model_y=LassoCV(n_alphas=1, verbose=0, n_jobs=-1),\n",
        "                                  model_t=LassoCV(n_alphas=1, verbose=0, n_jobs=-1),\n",
        "                                  linear_first_stages=True)\n",
        "\n",
        "dml_mult.fit(Y=Y, T=T, W=W, inference=\"statsmodels\")\n",
        "te_pred_mult = dml_mult.const_marginal_effect().ravel()\n",
        "\n",
        "lb_mult, ub_mult = dml_mult.const_marginal_effect_interval(alpha=0.05)\n",
        "lb_mult, ub_mult = lb_mult.ravel(), ub_mult.ravel()\n",
        "\n",
        "print(\"Treatment Effect, 95% CI\" + \"\\t\\t\" + \"{:.6f}\".format(te_pred_mult[0]) +\\\n",
        "      \"({:.6f}\".format(lb_mult[0]) + \", \" + \"{:.6f})\".format(ub_mult[0]))"
      ],
      "execution_count": null,
      "outputs": [
        {
          "output_type": "stream",
          "name": "stderr",
          "text": [
            "Model LassoCV(cv=2, n_alphas=1, n_jobs=-1, verbose=0) has a non-default cv attribute, which will be ignored\n",
            "Model LassoCV(cv=2, n_alphas=1, n_jobs=-1, verbose=0) has a non-default cv attribute, which will be ignored\n"
          ]
        },
        {
          "output_type": "stream",
          "name": "stdout",
          "text": [
            "Treatment Effect, 95% CI\t\t0.092546(0.085713, 0.099379)\n",
            "CPU times: user 26.1 s, sys: 4.58 s, total: 30.7 s\n",
            "Wall time: 31 s\n"
          ]
        }
      ]
    },
    {
      "cell_type": "markdown",
      "metadata": {
        "id": "0vGRwqi2sTjH"
      },
      "source": [
        "### Using the [DoubleML](https://docs.doubleml.org/stable/index.html) package"
      ]
    },
    {
      "cell_type": "code",
      "metadata": {
        "colab": {
          "base_uri": "https://localhost:8080/"
        },
        "id": "M1dLBQIIsTjI",
        "outputId": "f1a10cf8-fb19-4834-c694-3fffea24ac93"
      },
      "source": [
        "%%time\n",
        "data = doubleml.DoubleMLData(data=df, y_col=\"Y\", d_cols=\"Z\",\n",
        "                             x_cols=[\"Word\" + str(i) for i in range(len(df.columns)-3)])\n",
        "\n",
        "treatment_predictor = LassoCV(cv=2, n_alphas=1, verbose=0, n_jobs=-1)\n",
        "outcome_predictor = LassoCV(cv=2, n_alphas=1, verbose=0, n_jobs=-1)\n",
        "\n",
        "estimator = doubleml.DoubleMLPLR(data, treatment_predictor, outcome_predictor,\n",
        "                                 n_folds=2)\n",
        "estimator.fit()\n",
        "print(estimator.summary)"
      ],
      "execution_count": null,
      "outputs": [
        {
          "output_type": "stream",
          "name": "stdout",
          "text": [
            "       coef   std err          t          P>|t|     2.5 %   97.5 %\n",
            "Z  0.093565  0.003507  26.677477  8.592985e-157  0.086691  0.10044\n",
            "CPU times: user 4.53 s, sys: 1.72 s, total: 6.25 s\n",
            "Wall time: 5.28 s\n"
          ]
        }
      ]
    },
    {
      "cell_type": "markdown",
      "metadata": {
        "id": "JqycQtI4sTjI"
      },
      "source": [
        "### From Scratch\n",
        "\n",
        "Note: Standard errors are different from those recommended in the double machine learning paper."
      ]
    },
    {
      "cell_type": "code",
      "metadata": {
        "colab": {
          "base_uri": "https://localhost:8080/"
        },
        "id": "NdgeMLy4sTjI",
        "outputId": "1b08fcda-3349-45a2-e9af-614fe50ffeb9"
      },
      "source": [
        "%%time\n",
        "simulated_data_train, simulated_data_inference = train_test_split(simulated_data, test_size=0.5)\n",
        "\n",
        "Y_train = simulated_data_train[:, 0]\n",
        "T_train = simulated_data_train[:, 1]\n",
        "text_train = simulated_data_train[:, 3:]\n",
        "\n",
        "Y_inference = simulated_data_inference[:, 0]\n",
        "T_inference = simulated_data_inference[:, 1]\n",
        "text_inference = simulated_data_inference[:, 3:]"
      ],
      "execution_count": null,
      "outputs": [
        {
          "output_type": "stream",
          "name": "stdout",
          "text": [
            "CPU times: user 38.1 ms, sys: 59 ms, total: 97.1 ms\n",
            "Wall time: 99.7 ms\n"
          ]
        }
      ]
    },
    {
      "cell_type": "code",
      "metadata": {
        "colab": {
          "base_uri": "https://localhost:8080/"
        },
        "id": "_AJWPOpxsTjI",
        "outputId": "5a5eef9a-6fa8-4111-ebde-9903c64dc238"
      },
      "source": [
        "%%time\n",
        "model_y_tr = LassoCV(cv=2, n_alphas=1, verbose=0, n_jobs=-1).fit(X=text_train, y=Y_train)\n",
        "model_t_tr = LassoCV(cv=2, n_alphas=1, verbose=0, n_jobs=-1).fit(X=text_train, y=T_train)"
      ],
      "execution_count": null,
      "outputs": [
        {
          "output_type": "stream",
          "name": "stdout",
          "text": [
            "CPU times: user 2.08 s, sys: 557 ms, total: 2.64 s\n",
            "Wall time: 2.41 s\n"
          ]
        }
      ]
    },
    {
      "cell_type": "code",
      "metadata": {
        "colab": {
          "base_uri": "https://localhost:8080/"
        },
        "id": "X6ZPx63vsTjJ",
        "outputId": "b3f8c61c-135a-4c72-b73b-618f53ae9b2b"
      },
      "source": [
        "%%time\n",
        "model_y_inf = LassoCV(cv=2, n_alphas=1, verbose=0, n_jobs=-1).fit(X=text_inference, y=Y_inference)\n",
        "model_t_inf = LassoCV(cv=2, n_alphas=1, verbose=0, n_jobs=-1).fit(X=text_inference, y=T_inference)"
      ],
      "execution_count": null,
      "outputs": [
        {
          "output_type": "stream",
          "name": "stdout",
          "text": [
            "CPU times: user 1.94 s, sys: 599 ms, total: 2.54 s\n",
            "Wall time: 2.68 s\n"
          ]
        }
      ]
    },
    {
      "cell_type": "code",
      "metadata": {
        "id": "OJlqr_iKsTjJ"
      },
      "source": [
        "yres1 = Y_inference - model_y_tr.predict(text_inference)\n",
        "tres1 = T_inference - model_t_tr.predict(text_inference)\n",
        "yres2 = Y_train - model_y_inf.predict(text_train)\n",
        "tres2 = T_train - model_t_inf.predict(text_train)"
      ],
      "execution_count": null,
      "outputs": []
    },
    {
      "cell_type": "code",
      "metadata": {
        "colab": {
          "base_uri": "https://localhost:8080/"
        },
        "id": "FhNzaFsVsTjJ",
        "outputId": "c00d003c-4964-4933-e806-f2adab7d9ed5"
      },
      "source": [
        "theta_1 = np.mean(yres1*tres1)/np.mean(tres1**2)\n",
        "theta_2 = np.mean(yres2*tres2)/np.mean(tres2**2)\n",
        "theta = 0.5 * (theta_1 + theta_2)\n",
        "print(\"Cross-Fitted Treatment Effect\", theta)"
      ],
      "execution_count": null,
      "outputs": [
        {
          "output_type": "stream",
          "name": "stdout",
          "text": [
            "Cross-Fitted Treatment Effect 0.09368752092717333\n"
          ]
        }
      ]
    },
    {
      "cell_type": "code",
      "metadata": {
        "colab": {
          "base_uri": "https://localhost:8080/"
        },
        "id": "qEcgLdFIsTjJ",
        "outputId": "94f8c69a-682f-49e2-cf26-2c89b127d59c"
      },
      "source": [
        "print(\"Sample-Split Treatment Effect\")\n",
        "regression_model = sm.OLS(endog=yres1, exog=tres1, hasconst=False)\n",
        "res = regression_model.fit(method=\"pinv\", maxiter=100)\n",
        "print(res.summary())"
      ],
      "execution_count": null,
      "outputs": [
        {
          "output_type": "stream",
          "name": "stdout",
          "text": [
            "Sample-Split Treatment Effect\n",
            "                                 OLS Regression Results                                \n",
            "=======================================================================================\n",
            "Dep. Variable:                      y   R-squared (uncentered):                   0.074\n",
            "Model:                            OLS   Adj. R-squared (uncentered):              0.074\n",
            "Method:                 Least Squares   F-statistic:                              392.1\n",
            "Date:                Thu, 13 Mar 2025   Prob (F-statistic):                    5.16e-84\n",
            "Time:                        17:13:17   Log-Likelihood:                         -9432.5\n",
            "No. Observations:                4908   AIC:                                  1.887e+04\n",
            "Df Residuals:                    4907   BIC:                                  1.887e+04\n",
            "Df Model:                           1                                                  \n",
            "Covariance Type:            nonrobust                                                  \n",
            "==============================================================================\n",
            "                 coef    std err          t      P>|t|      [0.025      0.975]\n",
            "------------------------------------------------------------------------------\n",
            "x1             0.0921      0.005     19.801      0.000       0.083       0.101\n",
            "==============================================================================\n",
            "Omnibus:                     1943.890   Durbin-Watson:                   2.055\n",
            "Prob(Omnibus):                  0.000   Jarque-Bera (JB):             5649.247\n",
            "Skew:                           2.181   Prob(JB):                         0.00\n",
            "Kurtosis:                       5.932   Cond. No.                         1.00\n",
            "==============================================================================\n",
            "\n",
            "Notes:\n",
            "[1] R² is computed without centering (uncentered) since the model does not contain a constant.\n",
            "[2] Standard Errors assume that the covariance matrix of the errors is correctly specified.\n"
          ]
        }
      ]
    },
    {
      "cell_type": "code",
      "metadata": {
        "id": "96UkPQx1nulr"
      },
      "source": [],
      "execution_count": null,
      "outputs": []
    }
  ]
}
