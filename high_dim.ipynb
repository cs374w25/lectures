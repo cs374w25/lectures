{
 "cells": [
  {
   "cell_type": "markdown",
   "metadata": {
    "id": "aX5rhRH534IB"
   },
   "source": [
    "### High-dimensional synthetic data\n",
    "\n",
    "- C: Vector of {c_dim} {dice_size}-sided dice rolls.\n",
    "- A: Flip 1 + {dice_size} - median(C) coins. A is 1 if at least one flip comes up heads.\n",
    "- Y: Flip f(C) + A coins and write down the number of heads."
   ]
  },
  {
   "cell_type": "code",
   "execution_count": 49,
   "metadata": {
    "id": "StbmXb762aSb"
   },
   "outputs": [],
   "source": [
    "import numpy as np\n",
    "import pandas as pd\n",
    "import statsmodels.formula.api as smf\n",
    "import time"
   ]
  },
  {
   "cell_type": "code",
   "execution_count": 2,
   "metadata": {
    "id": "DelMlLoCmnSe"
   },
   "outputs": [],
   "source": [
    "def get_smf_model_a_param(ols, df):\n",
    "    \"\"\"\n",
    "    Fit a model with statsmodels\n",
    "    Return the parameter corresponding to the treatment\n",
    "    \"\"\"\n",
    "    return smf.ols(ols, data=df).fit().params['a']"
   ]
  },
  {
   "cell_type": "code",
   "execution_count": 43,
   "metadata": {},
   "outputs": [],
   "source": [
    "def observed(n=100, c_dim=6, dice_size=2, power=1):\n",
    "    \"\"\"\n",
    "    The observed data distribution\n",
    "      C: roll {c_dim} {dice_size}-sided dice and record the results\n",
    "      A: flip `1 + dice_size - np.median(C)` fair coins\n",
    "          and record 1 if at least one flip lands heads\n",
    "      \n",
    "      Y: flip `C + A` fair coins, and record the number of heads\n",
    "    \"\"\"\n",
    "\n",
    "    c_powers = np.ones([c_dim * power])\n",
    "    c_coefs = np.array([(-1) ** i * j * 1.3 ** i\n",
    "                        for i in range(1, 1 + c_dim)\n",
    "                        for j in range(1, 1 + power)])\n",
    "\n",
    "    # what's the smallest c ** pow @ c_coefs could be? Subtract that off.\n",
    "    worst_roll = np.where(c_coefs > 0, 1, dice_size)\n",
    "    y_min_dice = np.power(worst_roll, c_powers) @ c_coefs\n",
    "\n",
    "    c = np.random.randint(1, 1 + dice_size, (n, c_dim))\n",
    "    c_median = np.median(c, axis=1).astype(int)\n",
    "    a = np.random.binomial(n=1 + dice_size - c_median, p=0.5, size=n)\n",
    "    a = (a > 0).astype(np.int32)\n",
    "\n",
    "    c = np.tile(c, power)\n",
    "    y_n_dice = np.ceil(-y_min_dice + a + c @ c_coefs).astype(int)\n",
    "    y = np.random.binomial(n=y_n_dice, p=0.5)\n",
    "\n",
    "    columns = {\"a\": a, \"y\": y}\n",
    "    c_col_names = [f\"c{i}_{j}\" for i in range(1, 1 + c_dim) for j in range(1, 1 + power)]\n",
    "    c_cols = [col.reshape(-1) for col in np.array_split(c, c_dim * power, axis=1)]\n",
    "    columns.update(dict(zip(c_col_names, c_cols)))\n",
    "    df = pd.DataFrame(data=columns)\n",
    "\n",
    "    return df"
   ]
  },
  {
   "cell_type": "code",
   "execution_count": 45,
   "metadata": {
    "id": "aJ1sXLZ32lwH"
   },
   "outputs": [],
   "source": [
    "def experiment(estimator=\"ols\", n=100, c_dim=6,\n",
    "               repeats=1, power=1, dice_size=2,\n",
    "               ground_truth=None, prec=(3,0)):\n",
    "\n",
    "    # c_col_names = [f\"c{i}_{j}\" for i in range(1, 1 + c_dim) for j in range(1, 1 + power)]\n",
    "    c_col_names = [f\"c{i}_1\" for i in range(1, 1 + c_dim)]\n",
    "    results = []\n",
    "    np.random.seed(42)\n",
    "    for i in range(repeats):\n",
    "        df = observed(n=n, c_dim=c_dim, power=power, dice_size=dice_size)\n",
    "\n",
    "        if estimator == \"ols\":\n",
    "            ols = \"y ~ a + \" + \" + \".join(c_col_names)\n",
    "            results.append(get_smf_model_a_param(ols, df))\n",
    "\n",
    "        elif estimator == \"count\":\n",
    "            total = 0\n",
    "            denominator = 0\n",
    "            unique_c, counts = np.unique(\n",
    "                df[c_col_names], axis=0, return_counts=True)\n",
    "\n",
    "            for uniq, count in zip(unique_c, counts):\n",
    "                if count == 1: continue\n",
    "                subdf = df[(df[c_col_names] == uniq).all(axis=1)]\n",
    "                if np.unique(subdf[\"a\"]).shape[0] == 1: continue\n",
    "                e_y_a1 = subdf[subdf[\"a\"] == 1][\"y\"].mean()\n",
    "                e_y_a0 = subdf[subdf[\"a\"] == 0][\"y\"].mean()\n",
    "                total += count * (e_y_a1 - e_y_a0)\n",
    "                denominator += count\n",
    "\n",
    "            if denominator == 0:\n",
    "                results.append(np.nan)\n",
    "            else:\n",
    "                results.append(total / denominator)\n",
    "\n",
    "    if ground_truth is not None:\n",
    "        results = [np.abs(r - ground_truth) for r in results]\n",
    "    err = \"\"\n",
    "    prec_mean, prec_std = prec\n",
    "    if repeats > 1 and prec_std >= 0:\n",
    "        err = f\" ± {np.std(results):.{prec_std}f}\"\n",
    "    return f\"{np.mean(results):.{prec_mean}f}{err}\""
   ]
  },
  {
   "cell_type": "code",
   "execution_count": 41,
   "metadata": {
    "id": "9iIigHZLOYvK"
   },
   "outputs": [],
   "source": [
    "default_kwargs = dict(\n",
    "  n=100,\n",
    "  c_dim=2,\n",
    "  dice_size=8,\n",
    "  repeats=10,\n",
    "  power=1,\n",
    "  prec=(2, -1),\n",
    "  ground_truth=0.5,\n",
    ")"
   ]
  },
  {
   "cell_type": "code",
   "execution_count": 46,
   "metadata": {
    "colab": {
     "base_uri": "https://localhost:8080/"
    },
    "id": "aVsK_uAH3fgd",
    "outputId": "e6e978c3-40b6-4021-8720-1cbc9d260ea3"
   },
   "outputs": [
    {
     "name": "stdout",
     "output_type": "stream",
     "text": [
      "ols 0.30\n",
      "count 0.65\n"
     ]
    }
   ],
   "source": [
    "kwargs = default_kwargs.copy()\n",
    "\n",
    "for est in [\"ols\", \"count\"]:\n",
    "    kwargs[\"estimator\"] = est\n",
    "    print(est, end=\" \")\n",
    "    print(experiment(**kwargs))"
   ]
  },
  {
   "cell_type": "code",
   "execution_count": 47,
   "metadata": {
    "colab": {
     "base_uri": "https://localhost:8080/"
    },
    "id": "MahWKhR2O_Lw",
    "outputId": "ceb6f8d7-6596-4659-dc9b-062054f8d855"
   },
   "outputs": [
    {
     "name": "stdout",
     "output_type": "stream",
     "text": [
      "ols 0.93\n",
      "count 1.43\n"
     ]
    }
   ],
   "source": [
    "kwargs = default_kwargs.copy()\n",
    "kwargs[\"power\"] = 3\n",
    "\n",
    "for est in [\"ols\", \"count\"]:\n",
    "    kwargs[\"estimator\"] = est\n",
    "    print(est, end=\" \")\n",
    "    print(experiment(**kwargs))"
   ]
  },
  {
   "cell_type": "code",
   "execution_count": 48,
   "metadata": {
    "colab": {
     "base_uri": "https://localhost:8080/"
    },
    "id": "noH2S2_eb_gG",
    "outputId": "8d8dd427-601b-467f-bb83-d31b7eae3a89"
   },
   "outputs": [
    {
     "name": "stdout",
     "output_type": "stream",
     "text": [
      "Power: 1; Estimator: ols\n",
      "             1        2        4        8        16   \n",
      "n=100   :  0.25     0.30     1.23     2.18     7.01          in 0.2s\n",
      "n=1000  :  0.06     0.15     0.32     0.63     1.71          in 0.2s\n",
      "n=10000 :  0.04     0.05     0.06     0.23     0.52          in 0.6s\n",
      "\n",
      "Power: 1; Estimator: count\n",
      "             1        2        4        8        16   \n",
      "n=100   :  0.35     0.65     nan      nan      nan           in 0.2s\n",
      "n=1000  :  0.15     0.16     0.48     nan      nan           in 0.6s\n",
      "n=10000 :  0.10     0.07     0.09     nan      nan           in 11.6s\n",
      "\n",
      "Power: 2; Estimator: ols\n",
      "             1        2        4        8        16   \n",
      "n=100   :  0.35     0.95     4.18     15.38    103.46        in 0.3s\n",
      "n=1000  :  0.08     0.65     1.84     2.41     34.69         in 0.3s\n",
      "n=10000 :  0.04     0.70     1.43     3.13     22.98         in 0.6s\n",
      "\n",
      "Power: 2; Estimator: count\n",
      "             1        2        4        8        16   \n",
      "n=100   :  0.49     1.22     5.13     nan      nan           in 0.3s\n",
      "n=1000  :  0.27     0.58     2.02     13.87    nan           in 0.9s\n",
      "n=10000 :  0.19     0.67     1.48     3.46     nan           in 12.9s\n",
      "\n",
      "Power: 4; Estimator: ols\n",
      "             1        2        4        8        16   \n",
      "n=100   :  0.45     3.73     3.49     58.05    292.20        in 0.3s\n",
      "n=1000  :  0.17     2.35     5.75     17.23    158.10        in 0.3s\n",
      "n=10000 :  0.07     2.13     5.30     10.35    76.04         in 0.6s\n",
      "\n",
      "Power: 4; Estimator: count\n",
      "             1        2        4        8        16   \n",
      "n=100   :  0.65     4.00     3.58     103.24   nan           in 0.3s\n",
      "n=1000  :  0.55     2.20     5.91     16.74    367.28        in 1.1s\n",
      "n=10000 :  0.43     2.01     5.59     9.46     86.98         in 13.6s\n",
      "\n",
      "Power: 6; Estimator: ols\n",
      "             1        2        4        8        16   \n",
      "n=100   :  0.93     4.52     13.14    23.70    284.06        in 0.2s\n",
      "n=1000  :  0.26     4.47     7.86     16.48    72.39         in 0.3s\n",
      "n=10000 :  0.08     4.31     6.77     17.07    102.84        in 0.7s\n",
      "\n",
      "Power: 6; Estimator: count\n",
      "             1        2        4        8        16   \n",
      "n=100   :  1.87     6.15     22.02    nan      nan           in 0.3s\n",
      "n=1000  :  0.69     3.56     7.72     26.42    nan           in 1.1s\n",
      "n=10000 :  0.57     4.28     6.39     14.88    nan           in 12.8s\n",
      "\n"
     ]
    }
   ],
   "source": [
    "kwargs = default_kwargs.copy()\n",
    "kwargs[\"prec\"] = (2, -1)\n",
    "\n",
    "col_header_width = 9\n",
    "cell_width = 8\n",
    "powers = [1, 2, 4, 6]\n",
    "n_values = [100, 1000, 10000]\n",
    "c_dims = [1, 2, 4, 8, 16]\n",
    "\n",
    "for power in powers:\n",
    "    for est in [\"ols\", \"count\"]:\n",
    "    \n",
    "        print(f\"Power: {power}; Estimator: {est}\")\n",
    "        header = [\" \" * col_header_width]\n",
    "        header += [f\"{c:^{cell_width}}\" for c in c_dims]\n",
    "        print(\" \".join(header))\n",
    "\n",
    "        for n in n_values:\n",
    "            runtime = time.time()\n",
    "            row = [f\"n={n:<6d}: \"]\n",
    "            for c_dim in c_dims:\n",
    "                kwargs.update(dict(\n",
    "                    n=n,\n",
    "                    c_dim=c_dim,\n",
    "                    estimator=est,\n",
    "                    power=power,\n",
    "                ))\n",
    "                result = experiment(**kwargs)\n",
    "                row.append(f\"{result:{cell_width}s}\")\n",
    "            row.append(f\"     in {time.time() - runtime:.1f}s\")\n",
    "            print(\" \".join(row))\n",
    "\n",
    "        print()"
   ]
  },
  {
   "cell_type": "markdown",
   "metadata": {},
   "source": [
    "Defaults:\n",
    "```\n",
    "default_kwargs = dict(\n",
    "  n=100,\n",
    "  repeats=10,\n",
    "  prec=(2, -1),\n",
    "  ground_truth=0.5,\n",
    ")\n",
    "```\n",
    "\n",
    "## Power: 1; Estimator: ols\n",
    "```\n",
    "c_dim        1        2        4        8        16   \n",
    "n=100   :  0.25     0.30     1.23     2.18     7.01          in 0.2s\n",
    "n=1000  :  0.06     0.15     0.32     0.63     1.71          in 0.2s\n",
    "n=10000 :  0.04     0.05     0.06     0.23     0.52          in 0.6s\n",
    "```\n",
    "## Power: 1; Estimator: count\n",
    "```\n",
    "c_dim        1        2        4        8        16   \n",
    "n=100   :  0.35     0.65     nan      nan      nan           in 0.2s\n",
    "n=1000  :  0.15     0.16     0.48     nan      nan           in 0.6s\n",
    "n=10000 :  0.10     0.07     0.09     nan      nan           in 11.6s\n",
    "```\n",
    "\n",
    "## Power: 2; Estimator: ols\n",
    "```\n",
    "c_dim        1        2        4        8        16   \n",
    "n=100   :  0.35     0.95     4.18     15.38    103.46        in 0.3s\n",
    "n=1000  :  0.08     0.65     1.84     2.41     34.69         in 0.3s\n",
    "n=10000 :  0.04     0.70     1.43     3.13     22.98         in 0.6s\n",
    "```\n",
    "\n",
    "## Power: 2; Estimator: count\n",
    "```\n",
    "c_dim        1        2        4        8        16   \n",
    "n=100   :  0.49     1.22     5.13     nan      nan           in 0.3s\n",
    "n=1000  :  0.27     0.58     2.02     13.87    nan           in 0.9s\n",
    "n=10000 :  0.19     0.67     1.48     3.46     nan           in 12.9s\n",
    "```\n",
    "\n",
    "## Power: 4; Estimator: ols\n",
    "```\n",
    "c_dim        1        2        4        8        16   \n",
    "n=100   :  0.45     3.73     3.49     58.05    292.20        in 0.3s\n",
    "n=1000  :  0.17     2.35     5.75     17.23    158.10        in 0.3s\n",
    "n=10000 :  0.07     2.13     5.30     10.35    76.04         in 0.6s\n",
    "```\n",
    "\n",
    "## Power: 4; Estimator: count\n",
    "```\n",
    "c_dim        1        2        4        8        16   \n",
    "n=100   :  0.65     4.00     3.58     103.24   nan           in 0.3s\n",
    "n=1000  :  0.55     2.20     5.91     16.74    367.28        in 1.1s\n",
    "n=10000 :  0.43     2.01     5.59     9.46     86.98         in 13.6s\n",
    "```\n",
    "\n",
    "## Power: 6; Estimator: ols\n",
    "```\n",
    "c_dim        1        2        4        8        16   \n",
    "n=100   :  0.93     4.52     13.14    23.70    284.06        in 0.2s\n",
    "n=1000  :  0.26     4.47     7.86     16.48    72.39         in 0.3s\n",
    "n=10000 :  0.08     4.31     6.77     17.07    102.84        in 0.7s\n",
    "```\n",
    "\n",
    "## Power: 6; Estimator: count\n",
    "```\n",
    "c_dim        1        2        4        8        16   \n",
    "n=100   :  1.87     6.15     22.02    nan      nan           in 0.3s\n",
    "n=1000  :  0.69     3.56     7.72     26.42    nan           in 1.1s\n",
    "n=10000 :  0.57     4.28     6.39     14.88    nan           in 12.8s\n",
    "```"
   ]
  }
 ],
 "metadata": {
  "colab": {
   "provenance": []
  },
  "kernelspec": {
   "display_name": "Python 3 (ipykernel)",
   "language": "python",
   "name": "python3"
  },
  "language_info": {
   "codemirror_mode": {
    "name": "ipython",
    "version": 3
   },
   "file_extension": ".py",
   "mimetype": "text/x-python",
   "name": "python",
   "nbconvert_exporter": "python",
   "pygments_lexer": "ipython3",
   "version": "3.12.2"
  }
 },
 "nbformat": 4,
 "nbformat_minor": 4
}
