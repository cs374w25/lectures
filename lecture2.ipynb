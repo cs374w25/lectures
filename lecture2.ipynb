{
 "cells": [
  {
   "cell_type": "markdown",
   "metadata": {
    "id": "aX5rhRH534IB"
   },
   "source": [
    "### Synthetic data example\n",
    "\n",
    "- C: Result of a k-sided die.\n",
    "- A: Flip 1 + k - C coins. A is 1 if at least one flip comes up heads.\n",
    "- Y: Flip C + A coins and write down the number of heads."
   ]
  },
  {
   "cell_type": "code",
   "execution_count": 1,
   "metadata": {
    "id": "StbmXb762aSb"
   },
   "outputs": [],
   "source": [
    "import numpy as np\n",
    "import pandas as pd\n",
    "import statsmodels.formula.api as smf\n",
    "from sklearn.linear_model import LinearRegression"
   ]
  },
  {
   "cell_type": "code",
   "execution_count": 2,
   "metadata": {
    "id": "DelMlLoCmnSe"
   },
   "outputs": [],
   "source": [
    "def get_smf_model_a_param(ols, df):\n",
    "    \"\"\"\n",
    "    Fit a model with statsmodels\n",
    "    Return the parameter corresponding to the treatment\n",
    "    \"\"\"\n",
    "    return smf.ols(ols, data=df).fit().params['a']"
   ]
  },
  {
   "cell_type": "code",
   "execution_count": 3,
   "metadata": {
    "id": "7Kw5Qz66mogF"
   },
   "outputs": [],
   "source": [
    "def get_sklearn_model_a_param(ols, df):\n",
    "    \"\"\"\n",
    "    Fit a model with sklearn\n",
    "    Return the parameter corresponding to the treatment\n",
    "    \"\"\"\n",
    "    target = ols.split(\"~\")[0].strip()\n",
    "    inputs = ols.split(\"~\")[1].strip().split(\" + \")\n",
    "\n",
    "    model = LinearRegression()\n",
    "    model.fit(df[inputs], df[target])\n",
    "\n",
    "    return model.coef_[inputs.index(\"a\")]"
   ]
  },
  {
   "cell_type": "code",
   "execution_count": 4,
   "metadata": {
    "id": "BYjxlHoc2ee_"
   },
   "outputs": [],
   "source": [
    "def observed(n=100, c_dim=6, ols=\"y ~ a\"):\n",
    "    \"\"\"\n",
    "    The observed data distribution\n",
    "      C: roll a k-sided die and record the result\n",
    "      A: flip `1 + k - C` fair coins, and record 1 if at least one flip lands heads\n",
    "      Y: flip `C + A` fair coins, and record the number of heads\n",
    "    \"\"\"\n",
    "\n",
    "    c = np.random.randint(1, 1 + c_dim, n)\n",
    "    a = np.random.binomial(n=1 + c_dim - c, p=0.5, size=n)\n",
    "    a = (a > 0).astype(np.int32)\n",
    "    y = np.random.binomial(n=a + c, p=0.5)\n",
    "\n",
    "    df = pd.DataFrame(data=dict(c=c, a=a, y=y))\n",
    "    a_param = get_smf_model_a_param(ols, df)\n",
    "    # a_param = get_sklearn_model_a_param(ols, df)\n",
    "\n",
    "    return a_param"
   ]
  },
  {
   "cell_type": "code",
   "execution_count": 5,
   "metadata": {
    "id": "m1rF6oW52i1b"
   },
   "outputs": [],
   "source": [
    "def randomized(n=100, c_dim=6, ols=\"y ~ a\"):\n",
    "    \"\"\"\n",
    "    The same distribution, except A is replaced with a fair coin flip\n",
    "      C: roll a k-sided die and record the result\n",
    "      A: flip a single fair coin, and record 1 if it lands heads\n",
    "      Y: flip `C + A` fair coins, and record the number of heads\n",
    "    \"\"\"\n",
    "\n",
    "    c = np.random.randint(1, 1 + c_dim, n)\n",
    "    a = np.random.binomial(n=1, p=0.5, size=n)\n",
    "    y = np.random.binomial(n=a + c, p=0.5)\n",
    "\n",
    "    df = pd.DataFrame(data=dict(c=c, a=a, y=y))\n",
    "    a_param = get_smf_model_a_param(ols, df)\n",
    "\n",
    "    return a_param"
   ]
  },
  {
   "cell_type": "code",
   "execution_count": 6,
   "metadata": {
    "id": "aJ1sXLZ32lwH"
   },
   "outputs": [],
   "source": [
    "def experiment(dist, n=100, c_dim=6, ols=\"y ~ a\", repeats=1):\n",
    "    \"\"\"\n",
    "    Run an experiment with the given kwargs\n",
    "      dist: either \"observed\" or \"randomized\" distribution\n",
    "      n: the number of samples to draw from the distribution\n",
    "      c_dim: possible values that C can take (number of sides of the die)\n",
    "      ols: regression model; either \"y ~ a\" or \"y ~ a + c\"\n",
    "    \"\"\"\n",
    "    if dist == \"observed\":\n",
    "        func = observed\n",
    "    elif dist == \"randomized\":\n",
    "        func = randomized\n",
    "    else:\n",
    "        raise ValueError(dist)\n",
    "\n",
    "    np.random.seed(42)\n",
    "    results = [func(n=n, c_dim=c_dim, ols=ols) for i in range(repeats)]\n",
    "    err = \"\"\n",
    "    if repeats > 1:\n",
    "        err = f\" ± {np.std(results):.3f}\"\n",
    "    print(f\"{np.mean(results):.3f}{err}\")"
   ]
  },
  {
   "cell_type": "code",
   "execution_count": 13,
   "metadata": {
    "colab": {
     "base_uri": "https://localhost:8080/"
    },
    "id": "aVsK_uAH3fgd",
    "outputId": "f356c944-2e75-48d7-e1fe-a96e36d173ed"
   },
   "outputs": [
    {
     "name": "stdout",
     "output_type": "stream",
     "text": [
      "0.546 ± 0.055\n"
     ]
    }
   ],
   "source": [
    "experiment(\"randomized\", n=1000, c_dim=6, ols=\"y ~ a\", repeats=10)"
   ]
  },
  {
   "cell_type": "code",
   "execution_count": 14,
   "metadata": {
    "colab": {
     "base_uri": "https://localhost:8080/"
    },
    "id": "SiKP2_Q33osx",
    "outputId": "c0187fee-e809-4eba-a815-cc2bb8d7dbb9"
   },
   "outputs": [
    {
     "name": "stdout",
     "output_type": "stream",
     "text": [
      "0.454 ± 0.847\n"
     ]
    }
   ],
   "source": [
    "experiment(\"randomized\", n=10, c_dim=6, ols=\"y ~ a\", repeats=1000)"
   ]
  }
 ],
 "metadata": {
  "colab": {
   "provenance": []
  },
  "kernelspec": {
   "display_name": "Python 3 (ipykernel)",
   "language": "python",
   "name": "python3"
  },
  "language_info": {
   "codemirror_mode": {
    "name": "ipython",
    "version": 3
   },
   "file_extension": ".py",
   "mimetype": "text/x-python",
   "name": "python",
   "nbconvert_exporter": "python",
   "pygments_lexer": "ipython3",
   "version": "3.12.2"
  }
 },
 "nbformat": 4,
 "nbformat_minor": 4
}
