{
  "nbformat": 4,
  "nbformat_minor": 0,
  "metadata": {
    "colab": {
      "provenance": []
    },
    "kernelspec": {
      "name": "python3",
      "display_name": "Python 3"
    },
    "language_info": {
      "name": "python"
    }
  },
  "cells": [
    {
      "cell_type": "markdown",
      "source": [
        "### Synthetic data example\n",
        "\n",
        "- C: Result of a k-sided die.\n",
        "- A: Flip 1 + k - C coins. A is 1 if at least one flip comes up heads.\n",
        "- Y: Flip C + A coins and write down the number of heads."
      ],
      "metadata": {
        "id": "aX5rhRH534IB"
      }
    },
    {
      "cell_type": "code",
      "execution_count": 1,
      "metadata": {
        "id": "StbmXb762aSb"
      },
      "outputs": [],
      "source": [
        "import numpy as np\n",
        "import pandas as pd\n",
        "import statsmodels.formula.api as smf"
      ]
    },
    {
      "cell_type": "code",
      "source": [
        "def observed(n=100, c_dim=6, ols=\"y ~ a\"):\n",
        "    \"\"\"\n",
        "    The observed data distribution\n",
        "      C: roll a k-sided die and record the result\n",
        "      A: flip `1 + k - C` fair coins, and record 1 if at least one flip lands heads\n",
        "      Y: flip `C + A` fair coins, and record the number of heads\n",
        "    \"\"\"\n",
        "\n",
        "    c = np.random.randint(1, 1 + c_dim, n)\n",
        "    a = np.random.binomial(n=1 + c_dim - c, p=0.5, size=n)\n",
        "    a = (a > 0).astype(np.int32)\n",
        "    y = np.random.binomial(n=a + c, p=0.5)\n",
        "    df = pd.DataFrame(data=dict(c=c, a=a, y=y))\n",
        "    return smf.ols(ols, data=df).fit().params['a']"
      ],
      "metadata": {
        "id": "BYjxlHoc2ee_"
      },
      "execution_count": 2,
      "outputs": []
    },
    {
      "cell_type": "code",
      "source": [
        "def randomized(n=100, c_dim=6, ols=\"y ~ a\"):\n",
        "    \"\"\"\n",
        "    The same distribution, except A is replaced with a fair coin flip\n",
        "      C: roll a k-sided die and record the result\n",
        "      A: flip a single fair coin, and record 1 if it lands heads\n",
        "      Y: flip `C + A` fair coins, and record the number of heads\n",
        "    \"\"\"\n",
        "\n",
        "    c = np.random.randint(1, 1 + c_dim, n)\n",
        "    a = np.random.binomial(n=1, p=0.5, size=n)\n",
        "    y = np.random.binomial(n=a + c, p=0.5)\n",
        "    df = pd.DataFrame(data=dict(c=c, a=a, y=y))\n",
        "    return smf.ols(ols, data=df).fit().params['a']"
      ],
      "metadata": {
        "id": "m1rF6oW52i1b"
      },
      "execution_count": 3,
      "outputs": []
    },
    {
      "cell_type": "code",
      "source": [
        "def experiment(dist, n=100, c_dim=6, ols=\"y ~ a\", repeats=1):\n",
        "    \"\"\"\n",
        "    Run an experiment with the given kwargs\n",
        "      dist: either \"observed\" or \"randomized\" distribution\n",
        "      n: the number of samples to draw from the distribution\n",
        "      c_dim: possible values that C can take (number of sides of the die)\n",
        "      ols: regression model; either \"y ~ a\" or \"y ~ a + c\"\n",
        "    \"\"\"\n",
        "    if dist == \"observed\":\n",
        "        func = observed\n",
        "    elif dist == \"randomized\":\n",
        "        func = randomized\n",
        "    else:\n",
        "        raise ValueError(dist)\n",
        "\n",
        "    np.random.seed(42)\n",
        "    results = [func(n=n, c_dim=c_dim, ols=ols) for i in range(repeats)]\n",
        "    err = \"\"\n",
        "    if repeats > 1:\n",
        "        err = f\" ± {np.std(results):.3f}\"\n",
        "    print(f\"{np.mean(results):.3f}{err}\")"
      ],
      "metadata": {
        "id": "aJ1sXLZ32lwH"
      },
      "execution_count": 9,
      "outputs": []
    },
    {
      "cell_type": "code",
      "source": [
        "experiment(\"observed\", n=100, c_dim=6, ols=\"y ~ a\", repeats=1)"
      ],
      "metadata": {
        "id": "aVsK_uAH3fgd"
      },
      "execution_count": null,
      "outputs": []
    },
    {
      "cell_type": "code",
      "source": [
        "experiment(\"randomized\", n=100, c_dim=6, ols=\"y ~ a\", repeats=1)"
      ],
      "metadata": {
        "id": "SiKP2_Q33osx"
      },
      "execution_count": null,
      "outputs": []
    }
  ]
}