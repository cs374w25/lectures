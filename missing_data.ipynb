{
  "cells": [
    {
      "cell_type": "markdown",
      "metadata": {
        "id": "aX5rhRH534IB"
      },
      "source": [
        "### Missing Data\n",
        "\n",
        "- This adds a missing data sampling process to our simple synthetic dataset\n",
        "- The underlying p(C, A, Y) distribution can be specified to be randomized or not\n",
        "- The `missingness` keyword (MCAR, MAR, or MNAR) specifies the type of missingness on C."
      ]
    },
    {
      "cell_type": "code",
      "execution_count": 78,
      "metadata": {
        "id": "StbmXb762aSb"
      },
      "outputs": [],
      "source": [
        "import numpy as np\n",
        "import pandas as pd\n",
        "import statsmodels.api as sm\n",
        "import statsmodels.formula.api as smf\n",
        "from sklearn.linear_model import LinearRegression\n",
        "from statsmodels.imputation import mice"
      ]
    },
    {
      "cell_type": "code",
      "execution_count": 151,
      "metadata": {
        "id": "p7N1EQ_9GTwE"
      },
      "outputs": [],
      "source": [
        "def synthetic_data(n=100, c_dim=6, missingness=\"mcar\", randomized=False):\n",
        "    \"\"\"\n",
        "    Args:\n",
        "        n: how many samples from the distribution\n",
        "        c_dim: how many sides to the die being rolled for C\n",
        "        missingness: either mcar, mar, or mnar\n",
        "        randomized: if True, A is marginally independent of C\n",
        "\n",
        "    The data distribution:\n",
        "      C: roll a c_dim-sided die and record the result\n",
        "      A: flip `1 + c_dim - C` fair coins, and record 1 if at least one flip lands heads\n",
        "      Y: flip `C + A` fair coins, and record the number of heads\n",
        "      R_C: flip 2 + Y coins; if fewer than 2 heads, C is missing\n",
        "    \"\"\"\n",
        "\n",
        "    c = np.random.randint(1, 1 + c_dim, n)\n",
        "    if randomized:\n",
        "        a = np.random.binomial(n=1, p=0.5, size=n)\n",
        "    else:\n",
        "        a = np.random.binomial(n=1 + c_dim - c, p=0.5, size=n)\n",
        "        a = (a > 0).astype(np.int32)\n",
        "\n",
        "    y = np.random.binomial(n=a + c, p=0.5)\n",
        "\n",
        "    missingness = missingness.lower()\n",
        "    if missingness == \"mcar\":\n",
        "        r_c = np.random.binomial(n=1, p=0.9, size=n)\n",
        "    elif missingness == \"mar\":\n",
        "        r_c = np.random.binomial(n=2 + y, p=0.5, size=n)\n",
        "        r_c = (r_c >= 2).astype(np.int32)\n",
        "    elif missingness == \"mnar\":\n",
        "        r_c_prob = a * (c / c_dim) + (1 - a) * (1 - c / c_dim)\n",
        "        r_c = np.random.binomial(n=1, p=r_c_prob, size=n)\n",
        "        r_c = (r_c >= 1).astype(np.int32)\n",
        "    else:\n",
        "        raise ValueError(f\"Unknown missingness: {missingness}\")\n",
        "\n",
        "    c = np.where(r_c, c, np.nan)\n",
        "\n",
        "    df = pd.DataFrame(data=dict(c=c, a=a, y=y, r_c=r_c))\n",
        "    return df"
      ]
    },
    {
      "cell_type": "code",
      "execution_count": 154,
      "metadata": {
        "id": "aJ1sXLZ32lwH"
      },
      "outputs": [],
      "source": [
        "def experiment(n=100, c_dim=6, missingness=\"mcar\", randomized=False,\n",
        "               impute_model=\"a + y\", ols_model=\"y ~ a + c\",\n",
        "               mice_repeats=1, data_repeats=1, verbose=False):\n",
        "  \n",
        "    \"\"\"\n",
        "    Run an experiment to estimate the causal effect on a dataset\n",
        "        sampled from the specified synthetic data distribution.\n",
        "    Args:\n",
        "        n, c_dim, missingness, randomized: same as in `synthetic_data`\n",
        "        impute_model: features to use when imputing c\n",
        "        ols_model: model for which to fit our regression for y\n",
        "        data_repeats: how many datasets to sample from the distribution\n",
        "        mice_repeats: for each dataset sampled with `data_repeats`,\n",
        "                      how many imputed datasets to sample\n",
        "    \"\"\"\n",
        "\n",
        "    results = []\n",
        "    for i in range(data_repeats):\n",
        "        np.random.seed(i)\n",
        "        df = synthetic_data(\n",
        "            n=n, c_dim=c_dim,\n",
        "            randomized=randomized,\n",
        "            missingness=missingness)\n",
        "    \n",
        "        if verbose:\n",
        "            print(\"Missingness distribution\")\n",
        "            print(\"y_val  E[R_c | Y=y_val]\")\n",
        "            for y_val in sorted(np.unique(df[\"y\"])):\n",
        "                e_r_c = 1 - np.mean(np.isnan(df[\"c\"][df[\"y\"] == y_val]))\n",
        "                print(f\"{y_val:5d} {e_r_c:.1f}\")\n",
        "        \n",
        "        for j in range(mice_repeats):\n",
        "            np.random.seed(j)\n",
        "            imputer = mice.MICEData(df, perturbation_method=\"boot\")\n",
        "            imputer.set_imputer('c', formula=impute_model, model_class=sm.GLM)\n",
        "            imputer.update_all(5)\n",
        "            est = smf.ols(ols_model, data=imputer.data).fit().params[\"a\"]\n",
        "            results.append(est)\n",
        "\n",
        "    err = \"\"\n",
        "    if len(results) > 1:\n",
        "        err = f\" ± {np.std(results):.3f}\"\n",
        "    print(f\"{np.mean(results):.3f}{err}\")"
      ]
    },
    {
      "cell_type": "markdown",
      "source": [
        "### Experiments\n",
        "\n",
        "The below code will loop over the three missingness models and run the same analysis on the datasets produced by each. While you can play around with any of the keyword args, a few things to try:\n",
        "- What happens if you replace `impute_model` with just `\"a\"` or just `\"y\"`? Why?\n",
        "- Does changing `n`, `data_repeats`, or `mice_repeats` affect your estimates more? Why?"
      ],
      "metadata": {
        "id": "nea7CcSAeB5T"
      }
    },
    {
      "cell_type": "code",
      "execution_count": 173,
      "metadata": {
        "id": "aVsK_uAH3fgd",
        "colab": {
          "base_uri": "https://localhost:8080/"
        },
        "outputId": "135dcb5d-0e3b-426f-ed74-619f0c9db735"
      },
      "outputs": [
        {
          "output_type": "stream",
          "name": "stdout",
          "text": [
            "mcar\n",
            "0.539 ± 0.141\n",
            "mar\n",
            "0.535 ± 0.125\n",
            "mnar\n",
            "-0.263 ± 0.182\n"
          ]
        }
      ],
      "source": [
        "kwargs = {\n",
        "    \"n\": 100,\n",
        "    \"data_repeats\": 10,\n",
        "    \"mice_repeats\": 10,\n",
        "    \"ols_model\": \"y ~ a + c\",\n",
        "    \"impute_model\": \"a + y\",\n",
        "    \"randomized\": False,\n",
        "    \"verbose\": False\n",
        "}\n",
        "\n",
        "for m in [\"mcar\", \"mar\", \"mnar\"]:\n",
        "    kw = kwargs.copy()\n",
        "    kw[\"missingness\"] = m\n",
        "    print(m)\n",
        "    experiment(**kw)"
      ]
    }
  ],
  "metadata": {
    "colab": {
      "provenance": []
    },
    "kernelspec": {
      "display_name": "Python 3",
      "name": "python3"
    },
    "language_info": {
      "name": "python"
    }
  },
  "nbformat": 4,
  "nbformat_minor": 0
}